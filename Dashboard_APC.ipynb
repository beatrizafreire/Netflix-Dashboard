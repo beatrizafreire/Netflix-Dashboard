{
  "cells": [
    {
      "cell_type": "markdown",
      "metadata": {
        "id": "view-in-github",
        "colab_type": "text"
      },
      "source": [
        "<a href=\"https://colab.research.google.com/github/beatrizafreire/Netflix-Dashboard/blob/main/Dashboard_APC.ipynb\" target=\"_parent\"><img src=\"https://colab.research.google.com/assets/colab-badge.svg\" alt=\"Open In Colab\"/></a>"
      ]
    },
    {
      "cell_type": "markdown",
      "metadata": {
        "id": "KofY5THSmBdI"
      },
      "source": [
        "##Grupo F - Netflix"
      ]
    },
    {
      "cell_type": "markdown",
      "metadata": {
        "id": "ZsPEB0-Dn2fk"
      },
      "source": [
        "##Membros"
      ]
    },
    {
      "cell_type": "markdown",
      "metadata": {
        "id": "uXtoyLG4zBS0"
      },
      "source": [
        "|Matrícula|Nome Completo|\n",
        "|:---|:---|\n",
        "|222025914|Marllon Fausto Cardoso|\n",
        "|190056711|Beatriz Alves Freire|\n",
        "|222021933|William Bernardo da Silva|\n",
        "|222026386|Pedro Gois Marques Monteiro|\n",
        "|222014877|João Vitor da Costa Monteiro|\n",
        "|222006561|Arthur Rabelo Casagrande|\n",
        "|222006991|Mateus Cavalcante de Sousa|\n",
        "|222025950|Mateus Henrique Queiroz Magalhães Sousa|\n"
      ]
    },
    {
      "cell_type": "markdown",
      "metadata": {
        "id": "tnZZARQ7oLUf"
      },
      "source": [
        "##Objetivo"
      ]
    },
    {
      "cell_type": "markdown",
      "metadata": {
        "id": "W4qE8DvGzq9j"
      },
      "source": [
        "Mostrar dados econômicos e sobre produções audio-visuais da empresa Netflix."
      ]
    },
    {
      "cell_type": "markdown",
      "metadata": {
        "id": "vanD_D64pNNl"
      },
      "source": [
        "##Base de dados"
      ]
    },
    {
      "cell_type": "markdown",
      "metadata": {
        "id": "6TJDVxjE0P5k"
      },
      "source": [
        "\n",
        "|Nome|Descrição|Colunas| Amostras|\n",
        "|:---|:---|--:|--:|\n",
        "|[Base 1](https://drive.google.com/file/d/15ATX-NDTQJv2GfQyhXbIhXDL_lGZm3n1/view)|Dados sobre a frequência em que certas produções apareceram no top 10 mais populares.|6|584|\n",
        "|[Base 2](https://drive.google.com/file/d/1DIzGhh_hqi-IqAZr8mWcahSPL7J2FsYC/view?usp=sharing)|Dados referentes a renovação trimestral da Netflix de 2018 e 2019.|7|1160|\n",
        "|[Base 3](https://drive.google.com/file/d/1V4KeRN35SYZwnk0uftth2uZvpOjo6QFx/view?usp=sharing)|Dados referentes ao preço da NFLX34 (ação da Netflix) nos últimos 5 anos.|2|1024|\n",
        "|[Base 4](https://drive.google.com/file/d/1NH6BW0vuhqL0MYezftuwV_YT85wYHs2Y/view?usp=sharing)|Dados referentes às produções originais da Netflix.|3|40|"
      ]
    },
    {
      "cell_type": "markdown",
      "metadata": {
        "id": "K7b8C9-LvMB-"
      },
      "source": [
        "##Bibliotecas plotly e pandas"
      ]
    },
    {
      "cell_type": "code",
      "execution_count": null,
      "metadata": {
        "id": "pUfQn60B9jXF",
        "colab": {
          "base_uri": "https://localhost:8080/"
        },
        "outputId": "fc6474fa-5d34-4f56-8c7f-8f0f032fca57"
      },
      "outputs": [
        {
          "output_type": "stream",
          "name": "stdout",
          "text": [
            "\u001b[2K     \u001b[90m━━━━━━━━━━━━━━━━━━━━━━━━━━━━━━━━━━━━━━━━\u001b[0m \u001b[32m7.5/7.5 MB\u001b[0m \u001b[31m22.2 MB/s\u001b[0m eta \u001b[36m0:00:00\u001b[0m\n",
            "\u001b[2K     \u001b[90m━━━━━━━━━━━━━━━━━━━━━━━━━━━━━━━━━━━━━━━━\u001b[0m \u001b[32m1.6/1.6 MB\u001b[0m \u001b[31m13.0 MB/s\u001b[0m eta \u001b[36m0:00:00\u001b[0m\n",
            "\u001b[?25h"
          ]
        }
      ],
      "source": [
        "!pip install -qqq jupyter_dash"
      ]
    },
    {
      "cell_type": "code",
      "execution_count": null,
      "metadata": {
        "colab": {
          "base_uri": "https://localhost:8080/"
        },
        "id": "719uiktymPcf",
        "outputId": "9914e482-4045-4d84-a04b-34d3a32568d2"
      },
      "outputs": [
        {
          "output_type": "stream",
          "name": "stdout",
          "text": [
            "Requirement already satisfied: Dash in /usr/local/lib/python3.10/dist-packages (2.17.1)\n",
            "Requirement already satisfied: Flask<3.1,>=1.0.4 in /usr/local/lib/python3.10/dist-packages (from Dash) (2.2.5)\n",
            "Requirement already satisfied: Werkzeug<3.1 in /usr/local/lib/python3.10/dist-packages (from Dash) (3.0.3)\n",
            "Requirement already satisfied: plotly>=5.0.0 in /usr/local/lib/python3.10/dist-packages (from Dash) (5.15.0)\n",
            "Requirement already satisfied: dash-html-components==2.0.0 in /usr/local/lib/python3.10/dist-packages (from Dash) (2.0.0)\n",
            "Requirement already satisfied: dash-core-components==2.0.0 in /usr/local/lib/python3.10/dist-packages (from Dash) (2.0.0)\n",
            "Requirement already satisfied: dash-table==5.0.0 in /usr/local/lib/python3.10/dist-packages (from Dash) (5.0.0)\n",
            "Requirement already satisfied: importlib-metadata in /usr/local/lib/python3.10/dist-packages (from Dash) (7.1.0)\n",
            "Requirement already satisfied: typing-extensions>=4.1.1 in /usr/local/lib/python3.10/dist-packages (from Dash) (4.12.2)\n",
            "Requirement already satisfied: requests in /usr/local/lib/python3.10/dist-packages (from Dash) (2.31.0)\n",
            "Requirement already satisfied: retrying in /usr/local/lib/python3.10/dist-packages (from Dash) (1.3.4)\n",
            "Requirement already satisfied: nest-asyncio in /usr/local/lib/python3.10/dist-packages (from Dash) (1.6.0)\n",
            "Requirement already satisfied: setuptools in /usr/local/lib/python3.10/dist-packages (from Dash) (67.7.2)\n",
            "Requirement already satisfied: Jinja2>=3.0 in /usr/local/lib/python3.10/dist-packages (from Flask<3.1,>=1.0.4->Dash) (3.1.4)\n",
            "Requirement already satisfied: itsdangerous>=2.0 in /usr/local/lib/python3.10/dist-packages (from Flask<3.1,>=1.0.4->Dash) (2.2.0)\n",
            "Requirement already satisfied: click>=8.0 in /usr/local/lib/python3.10/dist-packages (from Flask<3.1,>=1.0.4->Dash) (8.1.7)\n",
            "Requirement already satisfied: tenacity>=6.2.0 in /usr/local/lib/python3.10/dist-packages (from plotly>=5.0.0->Dash) (8.3.0)\n",
            "Requirement already satisfied: packaging in /usr/local/lib/python3.10/dist-packages (from plotly>=5.0.0->Dash) (24.1)\n",
            "Requirement already satisfied: MarkupSafe>=2.1.1 in /usr/local/lib/python3.10/dist-packages (from Werkzeug<3.1->Dash) (2.1.5)\n",
            "Requirement already satisfied: zipp>=0.5 in /usr/local/lib/python3.10/dist-packages (from importlib-metadata->Dash) (3.19.2)\n",
            "Requirement already satisfied: charset-normalizer<4,>=2 in /usr/local/lib/python3.10/dist-packages (from requests->Dash) (3.3.2)\n",
            "Requirement already satisfied: idna<4,>=2.5 in /usr/local/lib/python3.10/dist-packages (from requests->Dash) (3.7)\n",
            "Requirement already satisfied: urllib3<3,>=1.21.1 in /usr/local/lib/python3.10/dist-packages (from requests->Dash) (2.0.7)\n",
            "Requirement already satisfied: certifi>=2017.4.17 in /usr/local/lib/python3.10/dist-packages (from requests->Dash) (2024.6.2)\n",
            "Requirement already satisfied: six>=1.7.0 in /usr/local/lib/python3.10/dist-packages (from retrying->Dash) (1.16.0)\n"
          ]
        }
      ],
      "source": [
        "pip install Dash"
      ]
    },
    {
      "cell_type": "code",
      "execution_count": null,
      "metadata": {
        "id": "lhcyjNCv8kFy"
      },
      "outputs": [],
      "source": [
        "from jupyter_dash import JupyterDash\n",
        "import plotly.express as px\n",
        "import plotly.graph_objects as go\n",
        "from _plotly_utils import colors\n",
        "from dash import Dash, html, dcc, Output, Input\n",
        "import pandas as pd\n",
        "import plotly.io as pio\n",
        "import numpy as np\n",
        "pio.templates.default = \"plotly_dark\""
      ]
    },
    {
      "cell_type": "markdown",
      "metadata": {
        "id": "ZSjQytb62Jg7"
      },
      "source": [
        "### Base 1"
      ]
    },
    {
      "cell_type": "code",
      "execution_count": null,
      "metadata": {
        "id": "gE_MPSmRYvOM"
      },
      "outputs": [],
      "source": [
        "url3 = 'https://drive.google.com/file/d/15ATX-NDTQJv2GfQyhXbIhXDL_lGZm3n1/view?usp=sharing'\n",
        "path3 = 'https://drive.google.com/uc?export=download&id='+url3.split('/')[-2]\n",
        "dataframe = pd.read_csv(path3, sep=',')\n",
        "dataframe = dataframe.values.tolist()"
      ]
    },
    {
      "cell_type": "markdown",
      "metadata": {
        "id": "XOXlrIvJuorC"
      },
      "source": [
        "### Base 2"
      ]
    },
    {
      "cell_type": "code",
      "execution_count": null,
      "metadata": {
        "id": "FUxtVcvAnbey"
      },
      "outputs": [],
      "source": [
        "url4 = 'https://drive.google.com/file/d/1DIzGhh_hqi-IqAZr8mWcahSPL7J2FsYC/view?usp=sharing'\n",
        "path4 = 'https://drive.google.com/uc?export=download&id='+url4.split('/')[-2]\n",
        "df4 = pd.read_csv(path4, sep=',')\n",
        "df4 = df4.values.tolist()"
      ]
    },
    {
      "cell_type": "markdown",
      "metadata": {
        "id": "bb36UzwVuo2E"
      },
      "source": [
        "### Base 3"
      ]
    },
    {
      "cell_type": "code",
      "execution_count": null,
      "metadata": {
        "id": "sdyPbYVXu2JG"
      },
      "outputs": [],
      "source": [
        "urlm = 'https://drive.google.com/file/d/1V4KeRN35SYZwnk0uftth2uZvpOjo6QFx/view?usp=sharing'\n",
        "pathm = 'https://drive.google.com/uc?export=download&id='+urlm.split('/')[-2]\n",
        "dfm = pd.read_csv(pathm, sep='.')\n",
        "dfm = dfm.values.tolist()"
      ]
    },
    {
      "cell_type": "markdown",
      "metadata": {
        "id": "vpaGzFB2o4cG"
      },
      "source": [
        "### Base 4"
      ]
    },
    {
      "cell_type": "code",
      "execution_count": null,
      "metadata": {
        "id": "_LH5JDRSxJbb"
      },
      "outputs": [],
      "source": [
        "url1 = 'https://drive.google.com/file/d/1NH6BW0vuhqL0MYezftuwV_YT85wYHs2Y/view?usp=sharing'\n",
        "path1 = 'https://drive.google.com/uc?export=download&id='+url1.split('/')[-2]\n",
        "df2 = pd.read_csv(path1)\n",
        "df2=df2.values.tolist()"
      ]
    },
    {
      "cell_type": "markdown",
      "metadata": {
        "id": "0sAj1VJKvhmu"
      },
      "source": [
        "## ##Gráficos"
      ]
    },
    {
      "cell_type": "markdown",
      "metadata": {
        "id": "ULNtQdiE2xH7"
      },
      "source": [
        "\n",
        "\n",
        "1. Diferentes preços da Netflix no mundo\n",
        "2. Programas da Netflix no TOP 10 Global\n",
        "3. Preço das ações da Netflix nos ultimos 5 anos\n",
        "4. Quantidade de Programas por gênero"
      ]
    },
    {
      "cell_type": "markdown",
      "metadata": {
        "id": "moHyBipqx4Yu"
      },
      "source": [
        "## Programas da Netflix no TOP 10 Global"
      ]
    },
    {
      "cell_type": "markdown",
      "metadata": {
        "id": "dHq31olq9cLn"
      },
      "source": [
        "#### O objetivo do gráfico é mapear as séries e filmes de sucesso ao redor do mundo, desde Julho de 2021 a Janeiro de 2022, comparando a quantidade de semanas que o mesmo, permaneceu no top 10 global. Com isso, conseguimos analisar o sucesso de cada série ou filme durante esse período."
      ]
    },
    {
      "cell_type": "code",
      "execution_count": null,
      "metadata": {
        "colab": {
          "base_uri": "https://localhost:8080/",
          "height": 542
        },
        "id": "9GIhRybgn36c",
        "outputId": "bb55d8db-ede8-437d-dad8-3f8177b8b0a2"
      },
      "outputs": [
        {
          "output_type": "display_data",
          "data": {
            "text/html": [
              "<html>\n",
              "<head><meta charset=\"utf-8\" /></head>\n",
              "<body>\n",
              "    <div>            <script src=\"https://cdnjs.cloudflare.com/ajax/libs/mathjax/2.7.5/MathJax.js?config=TeX-AMS-MML_SVG\"></script><script type=\"text/javascript\">if (window.MathJax && window.MathJax.Hub && window.MathJax.Hub.Config) {window.MathJax.Hub.Config({SVG: {font: \"STIX-Web\"}});}</script>                <script type=\"text/javascript\">window.PlotlyConfig = {MathJaxConfig: 'local'};</script>\n",
              "        <script charset=\"utf-8\" src=\"https://cdn.plot.ly/plotly-2.24.1.min.js\"></script>                <div id=\"0e0167df-fb01-4ff0-8784-831b7b894841\" class=\"plotly-graph-div\" style=\"height:525px; width:100%;\"></div>            <script type=\"text/javascript\">                                    window.PLOTLYENV=window.PLOTLYENV || {};                                    if (document.getElementById(\"0e0167df-fb01-4ff0-8784-831b7b894841\")) {                    Plotly.newPlot(                        \"0e0167df-fb01-4ff0-8784-831b7b894841\",                        [{\"alignmentgroup\":\"True\",\"hovertemplate\":\"T\\u00edtulos dos Filmes=%{x}\\u003cbr\\u003eSemanas no TOP 10=%{y}\\u003cextra\\u003e\\u003c\\u002fextra\\u003e\",\"legendgroup\":\"\",\"marker\":{\"color\":\"#e50914\",\"pattern\":{\"shape\":\"\"}},\"name\":\"\",\"offsetgroup\":\"\",\"orientation\":\"v\",\"showlegend\":false,\"textposition\":\"auto\",\"x\":[\"Squid Game\",\"Money Heist\",\"Hometown Cha-Cha-Cha\",\"Carinha de Anjo\",\"Maid\",\"Newly Rich, Newly Poor\",\"The Queen of Flow\",\"You\",\"Red Notice\",\"The King's Affection\",\"Carrossel\",\"Manifest\",\"Blood Red Sky\",\"The Witcher\",\"Yo soy Betty, la fea\",\"Outer Banks\",\"The Cook of Castamar\",\"Sex Education\",\"Lucifer\",\"CoComelon\",\"Virgin River\",\"Nevertheless,\",\"Vivo\",\"Rurouni Kenshin: The Beginning\",\"Hospital Playlist\",\"Sex\\u002fLife\",\"The Good Doctor\",\"Back to the Outback\",\"Major Grom: Plague Doctor\",\"Arcane\",\"The Claus Family\",\"Dynasty\",\"The Forgotten Battle\",\"Locke & Key\",\"The Five Juanas\",\"Clickbait\",\"The Snitch Cartel: Origins\",\"Elite\",\"Lost in Space\",\"The Unforgivable\",\"The Whole Truth\",\"Sooryavanshi\",\"A Boy Called Christmas\",\"Love Hard\",\"My Name\",\"Friendzone\",\"The Chestnut Man\",\"My Little Pony: A New Generation\",\"Confessions of an Invisible Girl\",\"Alice in Borderland\",\"The Last Mercenary\",\"Mimi\",\"All American\",\"Wish Dragon\",\"Fear Street Part 1: 1994\",\"Cobra Kai\",\"Emily in Paris\",\"Narcos: Mexico\",\"Good Girls\",\"Don't Look Up\",\"Minnal Murali\",\"Vicky and Her Mystery\",\"Our Beloved Summer\",\"Anonymously Yours\",\"The Christmas Chronicles\",\"Spoiled Brats\",\"Hellbound\",\"Yara\",\"Army of Thieves\",\"Stuck Together\",\"The Trip\",\"Venom\",\"Grudge\",\"The Guilty\",\"Hotel Transylvania 3: Summer Vacation\",\"Beauty and the Beast\",\"Midnight Mass\",\"Kate\",\"The Seven Deadly Sins\",\"Sweet Girl\",\"The Secret Diary of an Exchange Student\",\"Out of my league\",\"El infierno\",\"Shiny_Flakes: The Teenage Drug Lord\",\"Hit & Run\",\"Resort to Love\",\"Kingdom: Ashin of the North\",\"Fear Street Part 2: 1978\",\"Haseen Dillruba\",\"Lupin\",\"Titans\",\"Control Z\",\"Never Have I Ever\",\"Just Go With It\",\"Lulli\",\"Stay Close\",\"Caf\\u00e9 con aroma de mujer\",\"Single\\u2019s Inferno\",\"STAND BY ME Doraemon 2\",\"The Silent Sea\",\"Daughter From Another Mother\",\"Spider-Man: Homecoming\",\"The Hand of God\",\"The Christmas Chronicles: Part Two\",\"David and the Elves\",\"Bordertown: Mural Murders\",\"Green Snake\",\"A Castle For Christmas\",\"Bruised\",\"True Story\",\"Selling Sunset\",\"Just Short of Perfect\",\"Dhamaka\",\"Cowboy Bebop\",\"The Harder They Fall\",\"Meenakshi Sundareshwar\",\"Big Mouth\",\"Army of the Dead\",\"Love Is Blind: Brazil\",\"My Brother, My Sister\",\"Grey's Anatomy\",\"Ganglands\",\"Man on Fire\",\"The Father Who Moves Mountains\",\"The Stronghold\",\"Prey\",\"Xtreme\",\"Afterlife of the Party\",\"Turning Point: 9\\u002f11 and the War on Terror\",\"He's All That\",\"SAS: Rise of the Black Swan\",\"The Loud House Movie\",\"The Secret Life of Pets\",\"Black Island\",\"The Kissing Booth 3\",\"Bartkowiak\",\"For Life\",\"AlRawabi School for Girls\",\"Valeria\",\"Rurouni Kenshin: The Final\",\"The Last Letter From Your Lover\",\"Too Hot to Handle: Brazil\",\"Fear Street Part 3: 1666\",\"Twilight\",\"A Perfect Fit\",\"Atypical\",\"The War Next-door\",\"Fatherhood\",\"The 8th Night\",\"Silver Skates\",\"Too Hot to Handle\",\"Security\",\"Mother\\u002fAndroid\",\"How I Fell in Love with a Gangster\",\"Four to Dinner\",\"The Wasteland\",\"Chandigarh Kare Aashiqui\",\"Sin Nombre\",\"Rebelde\",\"The Lost Daughter\",\"Journey 2: The Mysterious Island\",\"Queer Eye\",\"Fast & Furious Presents: Hobbs & Shaw\",\"1000 Miles from Christmas\",\"WWII in Color: Road to Victory\",\"The Girl from Oslo\",\"A California Christmas: City Lights\",\"PAW Patrol\",\"Two\",\"The Power of the Dog\",\"Single All The Way\",\"More the Merrier\",\"Jurassic World Camp Cretaceous\",\"Outlaws\",\"Elves\",\"The Princess Switch 3: Romancing the Star\",\"The Croods\",\"Central Intelligence\",\"Love Me Instead\",\"Earwig and the Witch\",\"Prayers for the Stolen\",\"Tiger King\",\"7 Prisoners\",\"Transformers: The Last Knight\",\"Der Fall Collini\",\"Doctor (Tamil)\",\"Demon Slayer: Kimetsu no Yaiba\",\"Hypnotic\",\"Nobody Sleeps in the Woods Tonight 2\",\"Maya and the Three\",\"Sintonia\",\"Luis Miguel - The Series\",\"Night Teeth\",\"A Dog's Journey\",\"In for a Murder\",\"The Four of Us\",\"Going in Style\",\"There's Someone Inside Your House\",\"Pok\\u00e9mon the Movie: Secrets of the Jungle\",\"Titanic\",\"On My Block\",\"The Seven Deadly Sins: Cursed by Light\",\"Sounds Like Love\",\"Thalaivii\",\"Baki Hanma\",\"The Starling\",\"Intrusion\",\"Grown Ups\",\"Schumacher\",\"Safe House\",\"Nightbooks\",\"The Marksman\",\"Pinkfong & Baby Shark's Space Adventure\",\"The Circle\",\"JJ+E\",\"Love of My Loves\",\"Kung Fu Hustle\",\"The Women and the Murderer\",\"Sharkdog\",\"Worth\",\"Invasion\",\"The 100\",\"D.P.\",\"Beckett\",\"Gabby's Dollhouse\",\"Gone for Good\",\"Aftermath\",\"Dead Man Down\",\"The Swarm\",\"Navarasa\",\"Cocaine Cowboys: The Kings of Miami\",\"How to Sell Drugs Online (Fast)\",\"Trollhunters: Rise of the Titans\",\"The Twilight Saga: Breaking Dawn: Part 2\",\"The Twilight Saga: New Moon\",\"Chernobyl 1986\",\"Sky Rojo\",\"The Guide to the Perfect Family\",\"A Classic Horror Story\",\"T\\u00f4 Ryca\",\"Heist\",\"This Little Love of Mine\",\"How I Became a Superhero\",\"Last Summer\",\"Elize Matsunaga: Once Upon a Crime\",\"Warcraft\",\"Kung Fu Panda 3\",\"Dynasty Warriors\",\"Pok\\u00e9mon Journeys: The Series\",\"Sweet Tooth\",\"Somos.\",\"Undercover\",\"Brazen\",\"The Secret Life of Pets 2\",\"Tides\",\"Riverdance: The Animated Adventure\",\"The Clovehitch Killer\",\"Photocopier\",\"Cheer\",\"Archive 81\",\"Seal Team\",\"The Longest Yard\",\"Kitz\",\"Death to 2021\",\"Spider-Man\",\"Interven\\u00e7\\u00e3o\",\"Crime Scene: The Times Square Killer\",\"Grumpy Christmas\",\"The Shack\",\"John Wick: Chapter 3 - Parabellum\",\"Escape From Mogadishu\",\"Selling Tampa\",\"Aranyak\",\"Redemption Day\",\"14 Peaks: Nothing Is Impossible\",\"School of Chocolate\",\"JoJo's Bizarre Adventure\",\"Jack Reacher: Never Go Back\",\"Extinct\",\"Sinkhole\",\"EDENS ZERO\",\"Trolls\",\"6 Underground\",\"Goosebumps 2: Haunted Halloween\",\"Christmas Flow\",\"Love Never Lies\",\"Father Christmas Is Back\",\"211\",\"Passing\",\"Jumanji: The Next Level\",\"Lords of Scam\",\"Fierce\",\"Where is Marta?\",\"The Club\",\"21 Jump Street\",\"The Girl in the Spider's Web\",\"Amina\",\"Monk Comes Down the Mountain\",\"Final Score\",\"King Arthur: Legend of the Sword\",\"Only Mine\",\"Bloodshot\",\"Nobody Sleeps in the Woods Tonight\",\"Budapest\",\"Inside Job\",\"What Happens in Vegas\",\"Unfaithful\",\"Street Kings\",\"Another Life\",\"Redemption\",\"Knight and Day\",\"Fever Dream\",\"Tudo por um Pop Star\",\"Violet Evergarden the Movie\",\"Shameless (U.S.)\",\"A Tale Dark & Grimm\",\"The Baby-Sitters Club\",\"House of Secrets: The Burari Deaths\",\"Ride Along 2\",\"Heat\",\"Mr. & Mrs. Smith\",\"Forever Rich\",\"Luccas Neto em: O Mapa do Tesouro 2\",\"Dave Chappelle: The Closer\",\"Scaredy Cats\",\"No One Gets Out Alive\",\"Britney Vs Spears\",\"Je Suis Karl\",\"Freaks \\u2013 You're One of Us\",\"Blood & Water\",\"Love 101\",\"Forgotten We'll Be\",\"Ankahi Kahaniya\",\"Monsters Inside: The 24 Faces of Billy Milligan\",\"Jaguar\",\"The Equalizer 2\",\"Firedrake the Silver Dragon\",\"First Kill\",\"O Candidato Honesto 2\",\"Ilhados\",\"Amores perros\",\"In Time\",\"Noah\",\"Monte Carlo\",\"Lassie Come Home\",\"Octonauts: Above & Beyond\",\"Dive Club\",\"Into the Night\",\"Hotel Del Luna\",\"Welcome Home Roscoe Jenkins\",\"Green Lantern\",\"Flu\",\"Thimmarusu\",\"I Don't Know Whether to Slit My Wrists or Leave Them Long\",\"The Old Ways\",\"The Witcher: Nightmare of the Wolf\",\"Tomb Raider\",\"The Chair\",\"Open Your Eyes\",\"The Girl Next Door\",\"Alvin and the Chipmunks: Chipwrecked\",\"Sputnik\",\"Bake Squad\",\"Brand New Cherry Flavor\",\"The Kissing Booth\",\"The Kissing Booth 2\",\"Untold: Malice at the Palace\",\"SHAMAN KING\",\"The Vault\",\"The Losers\",\"World Trade Center\",\"Top Secret UFO Projects: Declassified\",\"Car Masters: Rust to Riches\",\"Hunter X Hunter (2011)\",\"Words Bubble Up Like Soda Pop\",\"Love Is Blind\",\"The Walking Dead\",\"Chiquititas\",\"The Twilight Saga: Eclipse\",\"The Twilight Saga: Breaking Dawn: Part 1\",\"Deep\",\"Gunpowder Milkshake\",\"The Water Man\",\"Rust Creek\",\"Biohackers\",\"Mother's Day\",\"How to Train Your Dragon: The Hidden World\",\"The Huntsman: Winter's War\",\"O Candidato Honesto\",\"Young Royals\",\"The Ice Road\",\"Good on Paper\",\"Fatale\",\"Skylines\",\"The Mitchells vs. The Machines\",\"Murder by the Coast\",\"Rurouni Kenshin: Origins\",\"Prime Time\",\"Sophie: A Murder in West Cork\",\"Katla\",\"Record of Ragnarok\"],\"xaxis\":\"x\",\"y\":[171,141,136,91,91,91,73,66,55,55,55,48,45,36,36,36,36,33,32,31,30,28,28,28,28,28,22,21,21,21,21,21,21,21,21,21,21,18,17,15,15,15,15,15,15,15,15,15,15,15,15,15,15,15,15,13,13,11,11,10,10,10,10,10,10,10,10,10,10,10,10,10,10,10,10,10,10,10,10,10,10,10,10,10,10,10,10,10,10,10,7,7,7,6,6,6,6,6,6,6,6,6,6,6,6,6,6,6,6,6,6,6,6,6,6,6,6,6,6,6,6,6,6,6,6,6,6,6,6,6,6,6,6,6,6,6,6,6,6,6,6,6,6,6,6,6,6,6,6,6,6,4,3,3,3,3,3,3,3,3,3,3,3,3,3,3,3,3,3,3,3,3,3,3,3,3,3,3,3,3,3,3,3,3,3,3,3,3,3,3,3,3,3,3,3,3,3,3,3,3,3,3,3,3,3,3,3,3,3,3,3,3,3,3,3,3,3,3,3,3,3,3,3,3,3,3,3,3,3,3,3,3,3,3,3,3,3,3,3,3,3,3,3,3,3,3,3,3,3,3,3,2,1,1,1,1,1,1,1,1,1,1,1,1,1,1,1,1,1,1,1,1,1,1,1,1,1,1,1,1,1,1,1,1,1,1,1,1,1,1,1,1,1,1,1,1,1,1,1,1,1,1,1,1,1,1,1,1,1,1,1,1,1,1,1,1,1,1,1,1,1,1,1,1,1,1,1,1,1,1,1,1,1,1,1,1,1,1,1,1,1,1,1,1,1,1,1,1,1,1,1,1,1,1,1,1,1,1,1,1,1,1,1,1,1,1,1,1,1,1,1,1,1,1,1,1,1,1,1,1,1,1,1,1,1,1,1,1,1,1,1,1,1,1,1,1,1,1,1,1,1],\"yaxis\":\"y\",\"type\":\"bar\"}],                        {\"template\":{\"data\":{\"histogram2dcontour\":[{\"type\":\"histogram2dcontour\",\"colorbar\":{\"outlinewidth\":0,\"ticks\":\"\"},\"colorscale\":[[0.0,\"#0d0887\"],[0.1111111111111111,\"#46039f\"],[0.2222222222222222,\"#7201a8\"],[0.3333333333333333,\"#9c179e\"],[0.4444444444444444,\"#bd3786\"],[0.5555555555555556,\"#d8576b\"],[0.6666666666666666,\"#ed7953\"],[0.7777777777777778,\"#fb9f3a\"],[0.8888888888888888,\"#fdca26\"],[1.0,\"#f0f921\"]]}],\"choropleth\":[{\"type\":\"choropleth\",\"colorbar\":{\"outlinewidth\":0,\"ticks\":\"\"}}],\"histogram2d\":[{\"type\":\"histogram2d\",\"colorbar\":{\"outlinewidth\":0,\"ticks\":\"\"},\"colorscale\":[[0.0,\"#0d0887\"],[0.1111111111111111,\"#46039f\"],[0.2222222222222222,\"#7201a8\"],[0.3333333333333333,\"#9c179e\"],[0.4444444444444444,\"#bd3786\"],[0.5555555555555556,\"#d8576b\"],[0.6666666666666666,\"#ed7953\"],[0.7777777777777778,\"#fb9f3a\"],[0.8888888888888888,\"#fdca26\"],[1.0,\"#f0f921\"]]}],\"heatmap\":[{\"type\":\"heatmap\",\"colorbar\":{\"outlinewidth\":0,\"ticks\":\"\"},\"colorscale\":[[0.0,\"#0d0887\"],[0.1111111111111111,\"#46039f\"],[0.2222222222222222,\"#7201a8\"],[0.3333333333333333,\"#9c179e\"],[0.4444444444444444,\"#bd3786\"],[0.5555555555555556,\"#d8576b\"],[0.6666666666666666,\"#ed7953\"],[0.7777777777777778,\"#fb9f3a\"],[0.8888888888888888,\"#fdca26\"],[1.0,\"#f0f921\"]]}],\"heatmapgl\":[{\"type\":\"heatmapgl\",\"colorbar\":{\"outlinewidth\":0,\"ticks\":\"\"},\"colorscale\":[[0.0,\"#0d0887\"],[0.1111111111111111,\"#46039f\"],[0.2222222222222222,\"#7201a8\"],[0.3333333333333333,\"#9c179e\"],[0.4444444444444444,\"#bd3786\"],[0.5555555555555556,\"#d8576b\"],[0.6666666666666666,\"#ed7953\"],[0.7777777777777778,\"#fb9f3a\"],[0.8888888888888888,\"#fdca26\"],[1.0,\"#f0f921\"]]}],\"contourcarpet\":[{\"type\":\"contourcarpet\",\"colorbar\":{\"outlinewidth\":0,\"ticks\":\"\"}}],\"contour\":[{\"type\":\"contour\",\"colorbar\":{\"outlinewidth\":0,\"ticks\":\"\"},\"colorscale\":[[0.0,\"#0d0887\"],[0.1111111111111111,\"#46039f\"],[0.2222222222222222,\"#7201a8\"],[0.3333333333333333,\"#9c179e\"],[0.4444444444444444,\"#bd3786\"],[0.5555555555555556,\"#d8576b\"],[0.6666666666666666,\"#ed7953\"],[0.7777777777777778,\"#fb9f3a\"],[0.8888888888888888,\"#fdca26\"],[1.0,\"#f0f921\"]]}],\"surface\":[{\"type\":\"surface\",\"colorbar\":{\"outlinewidth\":0,\"ticks\":\"\"},\"colorscale\":[[0.0,\"#0d0887\"],[0.1111111111111111,\"#46039f\"],[0.2222222222222222,\"#7201a8\"],[0.3333333333333333,\"#9c179e\"],[0.4444444444444444,\"#bd3786\"],[0.5555555555555556,\"#d8576b\"],[0.6666666666666666,\"#ed7953\"],[0.7777777777777778,\"#fb9f3a\"],[0.8888888888888888,\"#fdca26\"],[1.0,\"#f0f921\"]]}],\"mesh3d\":[{\"type\":\"mesh3d\",\"colorbar\":{\"outlinewidth\":0,\"ticks\":\"\"}}],\"scatter\":[{\"marker\":{\"line\":{\"color\":\"#283442\"}},\"type\":\"scatter\"}],\"parcoords\":[{\"type\":\"parcoords\",\"line\":{\"colorbar\":{\"outlinewidth\":0,\"ticks\":\"\"}}}],\"scatterpolargl\":[{\"type\":\"scatterpolargl\",\"marker\":{\"colorbar\":{\"outlinewidth\":0,\"ticks\":\"\"}}}],\"bar\":[{\"error_x\":{\"color\":\"#f2f5fa\"},\"error_y\":{\"color\":\"#f2f5fa\"},\"marker\":{\"line\":{\"color\":\"rgb(17,17,17)\",\"width\":0.5},\"pattern\":{\"fillmode\":\"overlay\",\"size\":10,\"solidity\":0.2}},\"type\":\"bar\"}],\"scattergeo\":[{\"type\":\"scattergeo\",\"marker\":{\"colorbar\":{\"outlinewidth\":0,\"ticks\":\"\"}}}],\"scatterpolar\":[{\"type\":\"scatterpolar\",\"marker\":{\"colorbar\":{\"outlinewidth\":0,\"ticks\":\"\"}}}],\"histogram\":[{\"marker\":{\"pattern\":{\"fillmode\":\"overlay\",\"size\":10,\"solidity\":0.2}},\"type\":\"histogram\"}],\"scattergl\":[{\"marker\":{\"line\":{\"color\":\"#283442\"}},\"type\":\"scattergl\"}],\"scatter3d\":[{\"type\":\"scatter3d\",\"line\":{\"colorbar\":{\"outlinewidth\":0,\"ticks\":\"\"}},\"marker\":{\"colorbar\":{\"outlinewidth\":0,\"ticks\":\"\"}}}],\"scattermapbox\":[{\"type\":\"scattermapbox\",\"marker\":{\"colorbar\":{\"outlinewidth\":0,\"ticks\":\"\"}}}],\"scatterternary\":[{\"type\":\"scatterternary\",\"marker\":{\"colorbar\":{\"outlinewidth\":0,\"ticks\":\"\"}}}],\"scattercarpet\":[{\"type\":\"scattercarpet\",\"marker\":{\"colorbar\":{\"outlinewidth\":0,\"ticks\":\"\"}}}],\"carpet\":[{\"aaxis\":{\"endlinecolor\":\"#A2B1C6\",\"gridcolor\":\"#506784\",\"linecolor\":\"#506784\",\"minorgridcolor\":\"#506784\",\"startlinecolor\":\"#A2B1C6\"},\"baxis\":{\"endlinecolor\":\"#A2B1C6\",\"gridcolor\":\"#506784\",\"linecolor\":\"#506784\",\"minorgridcolor\":\"#506784\",\"startlinecolor\":\"#A2B1C6\"},\"type\":\"carpet\"}],\"table\":[{\"cells\":{\"fill\":{\"color\":\"#506784\"},\"line\":{\"color\":\"rgb(17,17,17)\"}},\"header\":{\"fill\":{\"color\":\"#2a3f5f\"},\"line\":{\"color\":\"rgb(17,17,17)\"}},\"type\":\"table\"}],\"barpolar\":[{\"marker\":{\"line\":{\"color\":\"rgb(17,17,17)\",\"width\":0.5},\"pattern\":{\"fillmode\":\"overlay\",\"size\":10,\"solidity\":0.2}},\"type\":\"barpolar\"}],\"pie\":[{\"automargin\":true,\"type\":\"pie\"}]},\"layout\":{\"autotypenumbers\":\"strict\",\"colorway\":[\"#636efa\",\"#EF553B\",\"#00cc96\",\"#ab63fa\",\"#FFA15A\",\"#19d3f3\",\"#FF6692\",\"#B6E880\",\"#FF97FF\",\"#FECB52\"],\"font\":{\"color\":\"#f2f5fa\"},\"hovermode\":\"closest\",\"hoverlabel\":{\"align\":\"left\"},\"paper_bgcolor\":\"rgb(17,17,17)\",\"plot_bgcolor\":\"rgb(17,17,17)\",\"polar\":{\"bgcolor\":\"rgb(17,17,17)\",\"angularaxis\":{\"gridcolor\":\"#506784\",\"linecolor\":\"#506784\",\"ticks\":\"\"},\"radialaxis\":{\"gridcolor\":\"#506784\",\"linecolor\":\"#506784\",\"ticks\":\"\"}},\"ternary\":{\"bgcolor\":\"rgb(17,17,17)\",\"aaxis\":{\"gridcolor\":\"#506784\",\"linecolor\":\"#506784\",\"ticks\":\"\"},\"baxis\":{\"gridcolor\":\"#506784\",\"linecolor\":\"#506784\",\"ticks\":\"\"},\"caxis\":{\"gridcolor\":\"#506784\",\"linecolor\":\"#506784\",\"ticks\":\"\"}},\"coloraxis\":{\"colorbar\":{\"outlinewidth\":0,\"ticks\":\"\"}},\"colorscale\":{\"sequential\":[[0.0,\"#0d0887\"],[0.1111111111111111,\"#46039f\"],[0.2222222222222222,\"#7201a8\"],[0.3333333333333333,\"#9c179e\"],[0.4444444444444444,\"#bd3786\"],[0.5555555555555556,\"#d8576b\"],[0.6666666666666666,\"#ed7953\"],[0.7777777777777778,\"#fb9f3a\"],[0.8888888888888888,\"#fdca26\"],[1.0,\"#f0f921\"]],\"sequentialminus\":[[0.0,\"#0d0887\"],[0.1111111111111111,\"#46039f\"],[0.2222222222222222,\"#7201a8\"],[0.3333333333333333,\"#9c179e\"],[0.4444444444444444,\"#bd3786\"],[0.5555555555555556,\"#d8576b\"],[0.6666666666666666,\"#ed7953\"],[0.7777777777777778,\"#fb9f3a\"],[0.8888888888888888,\"#fdca26\"],[1.0,\"#f0f921\"]],\"diverging\":[[0,\"#8e0152\"],[0.1,\"#c51b7d\"],[0.2,\"#de77ae\"],[0.3,\"#f1b6da\"],[0.4,\"#fde0ef\"],[0.5,\"#f7f7f7\"],[0.6,\"#e6f5d0\"],[0.7,\"#b8e186\"],[0.8,\"#7fbc41\"],[0.9,\"#4d9221\"],[1,\"#276419\"]]},\"xaxis\":{\"gridcolor\":\"#283442\",\"linecolor\":\"#506784\",\"ticks\":\"\",\"title\":{\"standoff\":15},\"zerolinecolor\":\"#283442\",\"automargin\":true,\"zerolinewidth\":2},\"yaxis\":{\"gridcolor\":\"#283442\",\"linecolor\":\"#506784\",\"ticks\":\"\",\"title\":{\"standoff\":15},\"zerolinecolor\":\"#283442\",\"automargin\":true,\"zerolinewidth\":2},\"scene\":{\"xaxis\":{\"backgroundcolor\":\"rgb(17,17,17)\",\"gridcolor\":\"#506784\",\"linecolor\":\"#506784\",\"showbackground\":true,\"ticks\":\"\",\"zerolinecolor\":\"#C8D4E3\",\"gridwidth\":2},\"yaxis\":{\"backgroundcolor\":\"rgb(17,17,17)\",\"gridcolor\":\"#506784\",\"linecolor\":\"#506784\",\"showbackground\":true,\"ticks\":\"\",\"zerolinecolor\":\"#C8D4E3\",\"gridwidth\":2},\"zaxis\":{\"backgroundcolor\":\"rgb(17,17,17)\",\"gridcolor\":\"#506784\",\"linecolor\":\"#506784\",\"showbackground\":true,\"ticks\":\"\",\"zerolinecolor\":\"#C8D4E3\",\"gridwidth\":2}},\"shapedefaults\":{\"line\":{\"color\":\"#f2f5fa\"}},\"annotationdefaults\":{\"arrowcolor\":\"#f2f5fa\",\"arrowhead\":0,\"arrowwidth\":1},\"geo\":{\"bgcolor\":\"rgb(17,17,17)\",\"landcolor\":\"rgb(17,17,17)\",\"subunitcolor\":\"#506784\",\"showland\":true,\"showlakes\":true,\"lakecolor\":\"rgb(17,17,17)\"},\"title\":{\"x\":0.05},\"updatemenudefaults\":{\"bgcolor\":\"#506784\",\"borderwidth\":0},\"sliderdefaults\":{\"bgcolor\":\"#C8D4E3\",\"borderwidth\":1,\"bordercolor\":\"rgb(17,17,17)\",\"tickwidth\":0},\"mapbox\":{\"style\":\"dark\"}}},\"xaxis\":{\"anchor\":\"y\",\"domain\":[0.0,1.0],\"title\":{\"text\":\"T\\u00edtulos dos Filmes\"},\"showgrid\":false,\"linecolor\":\"white\"},\"yaxis\":{\"anchor\":\"x\",\"domain\":[0.0,1.0],\"title\":{\"text\":\"Semanas no TOP 10\"},\"showgrid\":false,\"linecolor\":\"white\"},\"legend\":{\"tracegroupgap\":0},\"title\":{\"text\":\"Programas da Netflix no TOP 10 Global:\"},\"barmode\":\"relative\",\"font\":{\"family\":\"Normal\",\"size\":15}},                        {\"responsive\": true}                    ).then(function(){\n",
              "                            \n",
              "var gd = document.getElementById('0e0167df-fb01-4ff0-8784-831b7b894841');\n",
              "var x = new MutationObserver(function (mutations, observer) {{\n",
              "        var display = window.getComputedStyle(gd).display;\n",
              "        if (!display || display === 'none') {{\n",
              "            console.log([gd, 'removed!']);\n",
              "            Plotly.purge(gd);\n",
              "            observer.disconnect();\n",
              "        }}\n",
              "}});\n",
              "\n",
              "// Listen for the removal of the full notebook cells\n",
              "var notebookContainer = gd.closest('#notebook-container');\n",
              "if (notebookContainer) {{\n",
              "    x.observe(notebookContainer, {childList: true});\n",
              "}}\n",
              "\n",
              "// Listen for the clearing of the current output cell\n",
              "var outputEl = gd.closest('.output');\n",
              "if (outputEl) {{\n",
              "    x.observe(outputEl, {childList: true});\n",
              "}}\n",
              "\n",
              "                        })                };                            </script>        </div>\n",
              "</body>\n",
              "</html>"
            ]
          },
          "metadata": {}
        }
      ],
      "source": [
        "def sortKeyNamesAndFrequencies(x):\n",
        "  return x[1]\n",
        "#Declaração de constante\n",
        "SHOW_TITLE_COLUMN = 3\n",
        "SHOW_WEEKS_ON_TOP10_COLUMN = 6\n",
        "\n",
        "#Atribuição de listas\n",
        "names = []\n",
        "frequencies = []\n",
        "\n",
        "for i in range(len(dataframe)):\n",
        "  names.append(dataframe[i][SHOW_TITLE_COLUMN])\n",
        "  frequencies.append(dataframe[i][SHOW_WEEKS_ON_TOP10_COLUMN])\n",
        "\n",
        "\n",
        "Repeted_Titles = []\n",
        "Names_and_Frequencies = []\n",
        "\n",
        "#Para cada nome esta associando a frequencia de vezes no TOP 10\n",
        "for i in range(len(names)):\n",
        "  if names[i] in Repeted_Titles:\n",
        "    continue\n",
        "  Repeted_Titles.append(names[i])\n",
        "  FrequencyOfNamesI = 0\n",
        "\n",
        "  for j in range(len(dataframe)):\n",
        "    if (names[i] == dataframe[j][3]):\n",
        "        FrequencyOfNamesI += dataframe[j][6]\n",
        "  Names_and_Frequencies.append([names[i], FrequencyOfNamesI])\n",
        "\n",
        "Names_and_Frequencies.sort(key = sortKeyNamesAndFrequencies, reverse = True)\n",
        "\n",
        "#Criando os eixos a partir do nome e frequecia respectiva\n",
        "NameAxis = []\n",
        "FrequencyAxis = []\n",
        "for i in range(len(Names_and_Frequencies)):\n",
        "  NameAxis.append(Names_and_Frequencies[i][0])\n",
        "  FrequencyAxis.append(Names_and_Frequencies[i][1])\n",
        "\n",
        "#Criacao do grafico de barras\n",
        "graphic_TOP10 = px.bar(x= NameAxis, y= FrequencyAxis, labels= {\n",
        "    'x': 'Títulos dos Filmes',\n",
        "    'y': 'Semanas no TOP 10',\n",
        "}, title= 'Programas da Netflix no TOP 10 Global:', template='plotly_dark', color_discrete_sequence=['#e50914'])\n",
        "graphic_TOP10.update_xaxes(showgrid= False, linecolor= 'white')\n",
        "graphic_TOP10.update_yaxes(showgrid= False, linecolor= 'white')\n",
        "graphic_TOP10.update_layout(font={'family':'Normal', 'size': 15})\n",
        "\n",
        "\n"
      ]
    },
    {
      "cell_type": "markdown",
      "metadata": {
        "id": "U0bcL0JKIU6h"
      },
      "source": [
        "##Renovações das inscrições da Netflix por Trimestre (2018 - 2019)"
      ]
    },
    {
      "cell_type": "markdown",
      "metadata": {
        "id": "X8dQ4m8KJBS9"
      },
      "source": [
        "#### Objetivo: Demonstrar o aumento de renovações durante o período de 2018 e 2019.\n"
      ]
    },
    {
      "cell_type": "code",
      "execution_count": null,
      "metadata": {
        "colab": {
          "base_uri": "https://localhost:8080/"
        },
        "id": "7EwRLfkLtzoX",
        "outputId": "0e94ae93-9e9d-460b-f208-f1ac7b18c10c"
      },
      "outputs": [
        {
          "output_type": "display_data",
          "data": {
            "text/html": [
              "<html>\n",
              "<head><meta charset=\"utf-8\" /></head>\n",
              "<body>\n",
              "    <div>            <script src=\"https://cdnjs.cloudflare.com/ajax/libs/mathjax/2.7.5/MathJax.js?config=TeX-AMS-MML_SVG\"></script><script type=\"text/javascript\">if (window.MathJax && window.MathJax.Hub && window.MathJax.Hub.Config) {window.MathJax.Hub.Config({SVG: {font: \"STIX-Web\"}});}</script>                <script type=\"text/javascript\">window.PlotlyConfig = {MathJaxConfig: 'local'};</script>\n",
              "        <script charset=\"utf-8\" src=\"https://cdn.plot.ly/plotly-2.24.1.min.js\"></script>                <div id=\"c107ee40-1048-4f8b-bcef-37c77d410f31\" class=\"plotly-graph-div\" style=\"height:525px; width:100%;\"></div>            <script type=\"text/javascript\">                                    window.PLOTLYENV=window.PLOTLYENV || {};                                    if (document.getElementById(\"c107ee40-1048-4f8b-bcef-37c77d410f31\")) {                    Plotly.newPlot(                        \"c107ee40-1048-4f8b-bcef-37c77d410f31\",                        [{\"line\":{\"color\":\"blue\"},\"name\":\"EUA e Canad\\u00e1\",\"x\":[\"Q1 - 2018\",\"Q2 - 2018\",\"Q3 - 2018\",\"Q4 - 2018\",\"Q1 - 2019\",\"Q2 - 2019\",\"Q3 - 2019\",\"Q4 - 2019\"],\"y\":[1976157000,2049546000,2094850000,2160979000,2256851000,2501199000,2621250000,2671908000],\"type\":\"scatter\"},{\"line\":{\"color\":\"red\"},\"name\":\"Europa, Oriente M\\u00e9dio e \\u00c1frica\",\"x\":[\"Q1 - 2018\",\"Q2 - 2018\",\"Q3 - 2018\",\"Q4 - 2018\",\"Q1 - 2019\",\"Q2 - 2019\",\"Q3 - 2019\",\"Q4 - 2019\"],\"y\":[886649000,975497000,1004749000,1096812000,1233379000,1319087000,1428040000,1562561000],\"type\":\"scatter\"},{\"line\":{\"color\":\"green\"},\"name\":\"Am\\u00e9rica Latina\",\"x\":[\"Q1 - 2018\",\"Q2 - 2018\",\"Q3 - 2018\",\"Q4 - 2018\",\"Q1 - 2019\",\"Q2 - 2019\",\"Q3 - 2019\",\"Q4 - 2019\"],\"y\":[540182000,568071000,562307000,567137000,630472000,677136000,741434000,746392000],\"type\":\"scatter\"},{\"line\":{\"color\":\"yellow\"},\"name\":\"\\u00c1sia Pac\\u00edfico\",\"x\":[\"Q1 - 2018\",\"Q2 - 2018\",\"Q3 - 2018\",\"Q4 - 2018\",\"Q1 - 2019\",\"Q2 - 2019\",\"Q3 - 2019\",\"Q4 - 2019\"],\"y\":[199117000,221252000,248691000,276756000,319602000,349494000,382304000,418121000],\"type\":\"scatter\"},{\"line\":{\"color\":\"gray\",\"dash\":\"dash\",\"width\":1},\"name\":\"M\\u00e9dia\",\"x\":[\"Q1 - 2018\",\"Q2 - 2018\",\"Q3 - 2018\",\"Q4 - 2018\",\"Q1 - 2019\",\"Q2 - 2019\",\"Q3 - 2019\",\"Q4 - 2019\"],\"y\":[900526250,953591500,977649250,1025421000,1110076000,1211729000,1293257000,1349745500],\"type\":\"scatter\"}],                        {\"template\":{\"data\":{\"histogram2dcontour\":[{\"type\":\"histogram2dcontour\",\"colorbar\":{\"outlinewidth\":0,\"ticks\":\"\"},\"colorscale\":[[0.0,\"#0d0887\"],[0.1111111111111111,\"#46039f\"],[0.2222222222222222,\"#7201a8\"],[0.3333333333333333,\"#9c179e\"],[0.4444444444444444,\"#bd3786\"],[0.5555555555555556,\"#d8576b\"],[0.6666666666666666,\"#ed7953\"],[0.7777777777777778,\"#fb9f3a\"],[0.8888888888888888,\"#fdca26\"],[1.0,\"#f0f921\"]]}],\"choropleth\":[{\"type\":\"choropleth\",\"colorbar\":{\"outlinewidth\":0,\"ticks\":\"\"}}],\"histogram2d\":[{\"type\":\"histogram2d\",\"colorbar\":{\"outlinewidth\":0,\"ticks\":\"\"},\"colorscale\":[[0.0,\"#0d0887\"],[0.1111111111111111,\"#46039f\"],[0.2222222222222222,\"#7201a8\"],[0.3333333333333333,\"#9c179e\"],[0.4444444444444444,\"#bd3786\"],[0.5555555555555556,\"#d8576b\"],[0.6666666666666666,\"#ed7953\"],[0.7777777777777778,\"#fb9f3a\"],[0.8888888888888888,\"#fdca26\"],[1.0,\"#f0f921\"]]}],\"heatmap\":[{\"type\":\"heatmap\",\"colorbar\":{\"outlinewidth\":0,\"ticks\":\"\"},\"colorscale\":[[0.0,\"#0d0887\"],[0.1111111111111111,\"#46039f\"],[0.2222222222222222,\"#7201a8\"],[0.3333333333333333,\"#9c179e\"],[0.4444444444444444,\"#bd3786\"],[0.5555555555555556,\"#d8576b\"],[0.6666666666666666,\"#ed7953\"],[0.7777777777777778,\"#fb9f3a\"],[0.8888888888888888,\"#fdca26\"],[1.0,\"#f0f921\"]]}],\"heatmapgl\":[{\"type\":\"heatmapgl\",\"colorbar\":{\"outlinewidth\":0,\"ticks\":\"\"},\"colorscale\":[[0.0,\"#0d0887\"],[0.1111111111111111,\"#46039f\"],[0.2222222222222222,\"#7201a8\"],[0.3333333333333333,\"#9c179e\"],[0.4444444444444444,\"#bd3786\"],[0.5555555555555556,\"#d8576b\"],[0.6666666666666666,\"#ed7953\"],[0.7777777777777778,\"#fb9f3a\"],[0.8888888888888888,\"#fdca26\"],[1.0,\"#f0f921\"]]}],\"contourcarpet\":[{\"type\":\"contourcarpet\",\"colorbar\":{\"outlinewidth\":0,\"ticks\":\"\"}}],\"contour\":[{\"type\":\"contour\",\"colorbar\":{\"outlinewidth\":0,\"ticks\":\"\"},\"colorscale\":[[0.0,\"#0d0887\"],[0.1111111111111111,\"#46039f\"],[0.2222222222222222,\"#7201a8\"],[0.3333333333333333,\"#9c179e\"],[0.4444444444444444,\"#bd3786\"],[0.5555555555555556,\"#d8576b\"],[0.6666666666666666,\"#ed7953\"],[0.7777777777777778,\"#fb9f3a\"],[0.8888888888888888,\"#fdca26\"],[1.0,\"#f0f921\"]]}],\"surface\":[{\"type\":\"surface\",\"colorbar\":{\"outlinewidth\":0,\"ticks\":\"\"},\"colorscale\":[[0.0,\"#0d0887\"],[0.1111111111111111,\"#46039f\"],[0.2222222222222222,\"#7201a8\"],[0.3333333333333333,\"#9c179e\"],[0.4444444444444444,\"#bd3786\"],[0.5555555555555556,\"#d8576b\"],[0.6666666666666666,\"#ed7953\"],[0.7777777777777778,\"#fb9f3a\"],[0.8888888888888888,\"#fdca26\"],[1.0,\"#f0f921\"]]}],\"mesh3d\":[{\"type\":\"mesh3d\",\"colorbar\":{\"outlinewidth\":0,\"ticks\":\"\"}}],\"scatter\":[{\"marker\":{\"line\":{\"color\":\"#283442\"}},\"type\":\"scatter\"}],\"parcoords\":[{\"type\":\"parcoords\",\"line\":{\"colorbar\":{\"outlinewidth\":0,\"ticks\":\"\"}}}],\"scatterpolargl\":[{\"type\":\"scatterpolargl\",\"marker\":{\"colorbar\":{\"outlinewidth\":0,\"ticks\":\"\"}}}],\"bar\":[{\"error_x\":{\"color\":\"#f2f5fa\"},\"error_y\":{\"color\":\"#f2f5fa\"},\"marker\":{\"line\":{\"color\":\"rgb(17,17,17)\",\"width\":0.5},\"pattern\":{\"fillmode\":\"overlay\",\"size\":10,\"solidity\":0.2}},\"type\":\"bar\"}],\"scattergeo\":[{\"type\":\"scattergeo\",\"marker\":{\"colorbar\":{\"outlinewidth\":0,\"ticks\":\"\"}}}],\"scatterpolar\":[{\"type\":\"scatterpolar\",\"marker\":{\"colorbar\":{\"outlinewidth\":0,\"ticks\":\"\"}}}],\"histogram\":[{\"marker\":{\"pattern\":{\"fillmode\":\"overlay\",\"size\":10,\"solidity\":0.2}},\"type\":\"histogram\"}],\"scattergl\":[{\"marker\":{\"line\":{\"color\":\"#283442\"}},\"type\":\"scattergl\"}],\"scatter3d\":[{\"type\":\"scatter3d\",\"line\":{\"colorbar\":{\"outlinewidth\":0,\"ticks\":\"\"}},\"marker\":{\"colorbar\":{\"outlinewidth\":0,\"ticks\":\"\"}}}],\"scattermapbox\":[{\"type\":\"scattermapbox\",\"marker\":{\"colorbar\":{\"outlinewidth\":0,\"ticks\":\"\"}}}],\"scatterternary\":[{\"type\":\"scatterternary\",\"marker\":{\"colorbar\":{\"outlinewidth\":0,\"ticks\":\"\"}}}],\"scattercarpet\":[{\"type\":\"scattercarpet\",\"marker\":{\"colorbar\":{\"outlinewidth\":0,\"ticks\":\"\"}}}],\"carpet\":[{\"aaxis\":{\"endlinecolor\":\"#A2B1C6\",\"gridcolor\":\"#506784\",\"linecolor\":\"#506784\",\"minorgridcolor\":\"#506784\",\"startlinecolor\":\"#A2B1C6\"},\"baxis\":{\"endlinecolor\":\"#A2B1C6\",\"gridcolor\":\"#506784\",\"linecolor\":\"#506784\",\"minorgridcolor\":\"#506784\",\"startlinecolor\":\"#A2B1C6\"},\"type\":\"carpet\"}],\"table\":[{\"cells\":{\"fill\":{\"color\":\"#506784\"},\"line\":{\"color\":\"rgb(17,17,17)\"}},\"header\":{\"fill\":{\"color\":\"#2a3f5f\"},\"line\":{\"color\":\"rgb(17,17,17)\"}},\"type\":\"table\"}],\"barpolar\":[{\"marker\":{\"line\":{\"color\":\"rgb(17,17,17)\",\"width\":0.5},\"pattern\":{\"fillmode\":\"overlay\",\"size\":10,\"solidity\":0.2}},\"type\":\"barpolar\"}],\"pie\":[{\"automargin\":true,\"type\":\"pie\"}]},\"layout\":{\"autotypenumbers\":\"strict\",\"colorway\":[\"#636efa\",\"#EF553B\",\"#00cc96\",\"#ab63fa\",\"#FFA15A\",\"#19d3f3\",\"#FF6692\",\"#B6E880\",\"#FF97FF\",\"#FECB52\"],\"font\":{\"color\":\"#f2f5fa\"},\"hovermode\":\"closest\",\"hoverlabel\":{\"align\":\"left\"},\"paper_bgcolor\":\"rgb(17,17,17)\",\"plot_bgcolor\":\"rgb(17,17,17)\",\"polar\":{\"bgcolor\":\"rgb(17,17,17)\",\"angularaxis\":{\"gridcolor\":\"#506784\",\"linecolor\":\"#506784\",\"ticks\":\"\"},\"radialaxis\":{\"gridcolor\":\"#506784\",\"linecolor\":\"#506784\",\"ticks\":\"\"}},\"ternary\":{\"bgcolor\":\"rgb(17,17,17)\",\"aaxis\":{\"gridcolor\":\"#506784\",\"linecolor\":\"#506784\",\"ticks\":\"\"},\"baxis\":{\"gridcolor\":\"#506784\",\"linecolor\":\"#506784\",\"ticks\":\"\"},\"caxis\":{\"gridcolor\":\"#506784\",\"linecolor\":\"#506784\",\"ticks\":\"\"}},\"coloraxis\":{\"colorbar\":{\"outlinewidth\":0,\"ticks\":\"\"}},\"colorscale\":{\"sequential\":[[0.0,\"#0d0887\"],[0.1111111111111111,\"#46039f\"],[0.2222222222222222,\"#7201a8\"],[0.3333333333333333,\"#9c179e\"],[0.4444444444444444,\"#bd3786\"],[0.5555555555555556,\"#d8576b\"],[0.6666666666666666,\"#ed7953\"],[0.7777777777777778,\"#fb9f3a\"],[0.8888888888888888,\"#fdca26\"],[1.0,\"#f0f921\"]],\"sequentialminus\":[[0.0,\"#0d0887\"],[0.1111111111111111,\"#46039f\"],[0.2222222222222222,\"#7201a8\"],[0.3333333333333333,\"#9c179e\"],[0.4444444444444444,\"#bd3786\"],[0.5555555555555556,\"#d8576b\"],[0.6666666666666666,\"#ed7953\"],[0.7777777777777778,\"#fb9f3a\"],[0.8888888888888888,\"#fdca26\"],[1.0,\"#f0f921\"]],\"diverging\":[[0,\"#8e0152\"],[0.1,\"#c51b7d\"],[0.2,\"#de77ae\"],[0.3,\"#f1b6da\"],[0.4,\"#fde0ef\"],[0.5,\"#f7f7f7\"],[0.6,\"#e6f5d0\"],[0.7,\"#b8e186\"],[0.8,\"#7fbc41\"],[0.9,\"#4d9221\"],[1,\"#276419\"]]},\"xaxis\":{\"gridcolor\":\"#283442\",\"linecolor\":\"#506784\",\"ticks\":\"\",\"title\":{\"standoff\":15},\"zerolinecolor\":\"#283442\",\"automargin\":true,\"zerolinewidth\":2},\"yaxis\":{\"gridcolor\":\"#283442\",\"linecolor\":\"#506784\",\"ticks\":\"\",\"title\":{\"standoff\":15},\"zerolinecolor\":\"#283442\",\"automargin\":true,\"zerolinewidth\":2},\"scene\":{\"xaxis\":{\"backgroundcolor\":\"rgb(17,17,17)\",\"gridcolor\":\"#506784\",\"linecolor\":\"#506784\",\"showbackground\":true,\"ticks\":\"\",\"zerolinecolor\":\"#C8D4E3\",\"gridwidth\":2},\"yaxis\":{\"backgroundcolor\":\"rgb(17,17,17)\",\"gridcolor\":\"#506784\",\"linecolor\":\"#506784\",\"showbackground\":true,\"ticks\":\"\",\"zerolinecolor\":\"#C8D4E3\",\"gridwidth\":2},\"zaxis\":{\"backgroundcolor\":\"rgb(17,17,17)\",\"gridcolor\":\"#506784\",\"linecolor\":\"#506784\",\"showbackground\":true,\"ticks\":\"\",\"zerolinecolor\":\"#C8D4E3\",\"gridwidth\":2}},\"shapedefaults\":{\"line\":{\"color\":\"#f2f5fa\"}},\"annotationdefaults\":{\"arrowcolor\":\"#f2f5fa\",\"arrowhead\":0,\"arrowwidth\":1},\"geo\":{\"bgcolor\":\"rgb(17,17,17)\",\"landcolor\":\"rgb(17,17,17)\",\"subunitcolor\":\"#506784\",\"showland\":true,\"showlakes\":true,\"lakecolor\":\"rgb(17,17,17)\"},\"title\":{\"x\":0.05},\"updatemenudefaults\":{\"bgcolor\":\"#506784\",\"borderwidth\":0},\"sliderdefaults\":{\"bgcolor\":\"#C8D4E3\",\"borderwidth\":1,\"bordercolor\":\"rgb(17,17,17)\",\"tickwidth\":0},\"mapbox\":{\"style\":\"dark\"}}},\"title\":{\"text\":\"Renova\\u00e7\\u00f5es das assinaturas da Netflix por trimestre (2018-2019)\",\"font\":{\"color\":\"white\"}},\"legend\":{\"font\":{\"color\":\"white\"}},\"xaxis\":{\"color\":\"white\",\"showgrid\":false,\"linecolor\":\"white\",\"title\":{\"text\":\"Trimestre\"}},\"yaxis\":{\"color\":\"white\",\"showgrid\":false,\"linecolor\":\"white\",\"title\":{\"text\":\"Renova\\u00e7\\u00f5es\"}}},                        {\"responsive\": true}                    ).then(function(){\n",
              "                            \n",
              "var gd = document.getElementById('c107ee40-1048-4f8b-bcef-37c77d410f31');\n",
              "var x = new MutationObserver(function (mutations, observer) {{\n",
              "        var display = window.getComputedStyle(gd).display;\n",
              "        if (!display || display === 'none') {{\n",
              "            console.log([gd, 'removed!']);\n",
              "            Plotly.purge(gd);\n",
              "            observer.disconnect();\n",
              "        }}\n",
              "}});\n",
              "\n",
              "// Listen for the removal of the full notebook cells\n",
              "var notebookContainer = gd.closest('#notebook-container');\n",
              "if (notebookContainer) {{\n",
              "    x.observe(notebookContainer, {childList: true});\n",
              "}}\n",
              "\n",
              "// Listen for the clearing of the current output cell\n",
              "var outputEl = gd.closest('.output');\n",
              "if (outputEl) {{\n",
              "    x.observe(outputEl, {childList: true});\n",
              "}}\n",
              "\n",
              "                        })                };                            </script>        </div>\n",
              "</body>\n",
              "</html>"
            ]
          },
          "metadata": {}
        }
      ],
      "source": [
        "# Criando listas por continente\n",
        "eua_canada = []\n",
        "euro_om_africa = []\n",
        "america_latina = []\n",
        "asia_pacifico = []\n",
        "\n",
        "# Guardando os valores de renovação apenas de 2018 e 2019\n",
        "# OBS: Os valores ja ficam em ordem temporal\n",
        "for c in df4:\n",
        "    if '2018' in c[1] or '2019' in c[1]:\n",
        "        if 'United States' in c[0]:\n",
        "            eua_canada.append(c[2])\n",
        "        elif 'Europe' in c[0]:\n",
        "            euro_om_africa.append(c[2])\n",
        "        elif 'Latin' in c[0]:\n",
        "            america_latina.append(c[2])\n",
        "        else:\n",
        "            asia_pacifico.append(c[2])\n",
        "# Criando a lista media e calculando a media entre os continentes por trimestre.\n",
        "media = []\n",
        "for c in range(8):\n",
        "    media.append((eua_canada[c] + euro_om_africa[c] + america_latina[c] + asia_pacifico[c])// 4)\n",
        "\n",
        "# Organizando uma lista para ser o eixo X, desconsiderando o ano de 2020\n",
        "eixoX = []\n",
        "for c in df4:\n",
        "    if c[1] not in eixoX and '2020' not in c[1]:\n",
        "        eixoX.append(c[1])\n",
        "\n",
        "# Gerando o gráfico com plotly\n",
        "fig4 = go.Figure(data=[\n",
        "    go.Scatter(\n",
        "        x= eixoX,\n",
        "        y= eua_canada,\n",
        "        name= 'EUA e Canadá',\n",
        "        line=dict(color='blue')\n",
        "    ),\n",
        "    go.Scatter(\n",
        "        x= eixoX,\n",
        "        y = euro_om_africa,\n",
        "        name= 'Europa, Oriente Médio e África',\n",
        "        line=dict(color='red'),\n",
        "    ),\n",
        "        go.Scatter(\n",
        "        x= eixoX,\n",
        "        y= america_latina,\n",
        "        name= 'América Latina',\n",
        "        line=dict(color='green')\n",
        "    ),\n",
        "    go.Scatter(\n",
        "        x= eixoX,\n",
        "        y= asia_pacifico,\n",
        "        name= 'Ásia Pacífico',\n",
        "        line=dict(color='yellow')\n",
        "    ),\n",
        "    go.Scatter(\n",
        "        x= eixoX,\n",
        "        y= media,\n",
        "        name= 'Média',\n",
        "        line=dict(color='gray', dash= 'dash', width=1),\n",
        "    )\n",
        "    ])\n",
        "# Personalização do gráfico\n",
        "fig4.update_layout(title='Renovações das assinaturas da Netflix por trimestre (2018-2019)', title_font_color = 'white', template='plotly_dark', legend_font_color='white')\n",
        "fig4.update_xaxes(color= 'white', showgrid= False, linecolor= 'white', title =  'Trimestre')\n",
        "fig4.update_yaxes(color= 'white', showgrid= False, linecolor= 'white', title = 'Renovações')\n",
        "fig4.show()\n"
      ]
    },
    {
      "cell_type": "markdown",
      "metadata": {
        "id": "Nk4xmxnTwk5l"
      },
      "source": [
        "## Preço das ações da Netflix nos ultimos 5 anos"
      ]
    },
    {
      "cell_type": "markdown",
      "metadata": {
        "id": "cCc3V-QBpnAi"
      },
      "source": [
        "#### O gráfico referente ao preço das ações da Netflix (NFLX34), durante o período de 2 de janeiro de 2018 a 10 de janeiro de 2023, tem por objetivo compreender a situação da empresa, utilizando esse dado econômico como referência, e entender o posicionamento da corporação em relação ao contexto social e político no ano de 2022, já que, dentre vários motivos, os conflitos entre Rússia e Ucrânia contribuíram para a desvalorização no preço das ações, uma vez que a Netflix cessou o fornecimento de seus serviços à Rússia."
      ]
    },
    {
      "cell_type": "code",
      "execution_count": null,
      "metadata": {
        "colab": {
          "base_uri": "https://localhost:8080/",
          "height": 542
        },
        "id": "d-23TmB9wLER",
        "outputId": "960c52db-5520-4541-cdc3-3c6227d26c90"
      },
      "outputs": [
        {
          "output_type": "display_data",
          "data": {
            "text/html": [
              "<html>\n",
              "<head><meta charset=\"utf-8\" /></head>\n",
              "<body>\n",
              "    <div>            <script src=\"https://cdnjs.cloudflare.com/ajax/libs/mathjax/2.7.5/MathJax.js?config=TeX-AMS-MML_SVG\"></script><script type=\"text/javascript\">if (window.MathJax && window.MathJax.Hub && window.MathJax.Hub.Config) {window.MathJax.Hub.Config({SVG: {font: \"STIX-Web\"}});}</script>                <script type=\"text/javascript\">window.PlotlyConfig = {MathJaxConfig: 'local'};</script>\n",
              "        <script charset=\"utf-8\" src=\"https://cdn.plot.ly/plotly-2.24.1.min.js\"></script>                <div id=\"8f695a83-8189-4674-8dcc-678bbdff3a58\" class=\"plotly-graph-div\" style=\"height:525px; width:100%;\"></div>            <script type=\"text/javascript\">                                    window.PLOTLYENV=window.PLOTLYENV || {};                                    if (document.getElementById(\"8f695a83-8189-4674-8dcc-678bbdff3a58\")) {                    Plotly.newPlot(                        \"8f695a83-8189-4674-8dcc-678bbdff3a58\",                        [{\"alignmentgroup\":\"True\",\"hovertemplate\":\"Data=%{x}\\u003cbr\\u003ePre\\u00e7o (R$)=%{y}\\u003cextra\\u003e\\u003c\\u002fextra\\u003e\",\"legendgroup\":\"\",\"marker\":{\"color\":\"#e50914\",\"pattern\":{\"shape\":\"\"}},\"name\":\"\",\"offsetgroup\":\"\",\"orientation\":\"v\",\"showlegend\":false,\"textposition\":\"auto\",\"x\":[\"02\\u002f01\\u002f2018\",\"03\\u002f01\\u002f2018\",\"11\\u002f01\\u002f2018\",\"16\\u002f01\\u002f2018\",\"17\\u002f01\\u002f2018\",\"18\\u002f01\\u002f2018\",\"19\\u002f01\\u002f2018\",\"24\\u002f01\\u002f2018\",\"26\\u002f01\\u002f2018\",\"29\\u002f01\\u002f2018\",\"30\\u002f01\\u002f2018\",\"31\\u002f01\\u002f2018\",\"01\\u002f02\\u002f2018\",\"07\\u002f02\\u002f2018\",\"08\\u002f02\\u002f2018\",\"09\\u002f02\\u002f2018\",\"14\\u002f02\\u002f2018\",\"21\\u002f02\\u002f2018\",\"22\\u002f02\\u002f2018\",\"26\\u002f02\\u002f2018\",\"01\\u002f03\\u002f2018\",\"05\\u002f03\\u002f2018\",\"06\\u002f03\\u002f2018\",\"08\\u002f03\\u002f2018\",\"09\\u002f03\\u002f2018\",\"12\\u002f03\\u002f2018\",\"14\\u002f03\\u002f2018\",\"16\\u002f03\\u002f2018\",\"19\\u002f03\\u002f2018\",\"21\\u002f03\\u002f2018\",\"22\\u002f03\\u002f2018\",\"23\\u002f03\\u002f2018\",\"27\\u002f03\\u002f2018\",\"28\\u002f03\\u002f2018\",\"03\\u002f04\\u002f2018\",\"05\\u002f04\\u002f2018\",\"06\\u002f04\\u002f2018\",\"09\\u002f04\\u002f2018\",\"10\\u002f04\\u002f2018\",\"11\\u002f04\\u002f2018\",\"12\\u002f04\\u002f2018\",\"13\\u002f04\\u002f2018\",\"16\\u002f04\\u002f2018\",\"17\\u002f04\\u002f2018\",\"18\\u002f04\\u002f2018\",\"23\\u002f04\\u002f2018\",\"24\\u002f04\\u002f2018\",\"25\\u002f04\\u002f2018\",\"02\\u002f05\\u002f2018\",\"04\\u002f05\\u002f2018\",\"07\\u002f05\\u002f2018\",\"08\\u002f05\\u002f2018\",\"10\\u002f05\\u002f2018\",\"15\\u002f05\\u002f2018\",\"17\\u002f05\\u002f2018\",\"18\\u002f05\\u002f2018\",\"23\\u002f05\\u002f2018\",\"24\\u002f05\\u002f2018\",\"25\\u002f05\\u002f2018\",\"29\\u002f05\\u002f2018\",\"30\\u002f05\\u002f2018\",\"01\\u002f06\\u002f2018\",\"04\\u002f06\\u002f2018\",\"05\\u002f06\\u002f2018\",\"06\\u002f06\\u002f2018\",\"07\\u002f06\\u002f2018\",\"08\\u002f06\\u002f2018\",\"11\\u002f06\\u002f2018\",\"12\\u002f06\\u002f2018\",\"14\\u002f06\\u002f2018\",\"15\\u002f06\\u002f2018\",\"18\\u002f06\\u002f2018\",\"19\\u002f06\\u002f2018\",\"20\\u002f06\\u002f2018\",\"22\\u002f06\\u002f2018\",\"25\\u002f06\\u002f2018\",\"26\\u002f06\\u002f2018\",\"27\\u002f06\\u002f2018\",\"29\\u002f06\\u002f2018\",\"02\\u002f07\\u002f2018\",\"03\\u002f07\\u002f2018\",\"12\\u002f07\\u002f2018\",\"16\\u002f07\\u002f2018\",\"17\\u002f07\\u002f2018\",\"19\\u002f07\\u002f2018\",\"20\\u002f07\\u002f2018\",\"24\\u002f07\\u002f2018\",\"25\\u002f07\\u002f2018\",\"30\\u002f07\\u002f2018\",\"31\\u002f07\\u002f2018\",\"06\\u002f08\\u002f2018\",\"07\\u002f08\\u002f2018\",\"08\\u002f08\\u002f2018\",\"10\\u002f08\\u002f2018\",\"14\\u002f08\\u002f2018\",\"15\\u002f08\\u002f2018\",\"17\\u002f08\\u002f2018\",\"20\\u002f08\\u002f2018\",\"21\\u002f08\\u002f2018\",\"22\\u002f08\\u002f2018\",\"23\\u002f08\\u002f2018\",\"24\\u002f08\\u002f2018\",\"27\\u002f08\\u002f2018\",\"28\\u002f08\\u002f2018\",\"29\\u002f08\\u002f2018\",\"30\\u002f08\\u002f2018\",\"31\\u002f08\\u002f2018\",\"04\\u002f09\\u002f2018\",\"05\\u002f09\\u002f2018\",\"06\\u002f09\\u002f2018\",\"10\\u002f09\\u002f2018\",\"12\\u002f09\\u002f2018\",\"14\\u002f09\\u002f2018\",\"17\\u002f09\\u002f2018\",\"18\\u002f09\\u002f2018\",\"19\\u002f09\\u002f2018\",\"24\\u002f09\\u002f2018\",\"25\\u002f09\\u002f2018\",\"26\\u002f09\\u002f2018\",\"28\\u002f09\\u002f2018\",\"01\\u002f10\\u002f2018\",\"02\\u002f10\\u002f2018\",\"03\\u002f10\\u002f2018\",\"04\\u002f10\\u002f2018\",\"05\\u002f10\\u002f2018\",\"09\\u002f10\\u002f2018\",\"10\\u002f10\\u002f2018\",\"11\\u002f10\\u002f2018\",\"15\\u002f10\\u002f2018\",\"16\\u002f10\\u002f2018\",\"18\\u002f10\\u002f2018\",\"19\\u002f10\\u002f2018\",\"23\\u002f10\\u002f2018\",\"24\\u002f10\\u002f2018\",\"25\\u002f10\\u002f2018\",\"26\\u002f10\\u002f2018\",\"29\\u002f10\\u002f2018\",\"30\\u002f10\\u002f2018\",\"31\\u002f10\\u002f2018\",\"01\\u002f11\\u002f2018\",\"05\\u002f11\\u002f2018\",\"07\\u002f11\\u002f2018\",\"08\\u002f11\\u002f2018\",\"09\\u002f11\\u002f2018\",\"14\\u002f11\\u002f2018\",\"19\\u002f11\\u002f2018\",\"21\\u002f11\\u002f2018\",\"26\\u002f11\\u002f2018\",\"28\\u002f11\\u002f2018\",\"29\\u002f11\\u002f2018\",\"30\\u002f11\\u002f2018\",\"04\\u002f12\\u002f2018\",\"07\\u002f12\\u002f2018\",\"12\\u002f12\\u002f2018\",\"13\\u002f12\\u002f2018\",\"18\\u002f12\\u002f2018\",\"20\\u002f12\\u002f2018\",\"21\\u002f12\\u002f2018\",\"27\\u002f12\\u002f2018\",\"02\\u002f01\\u002f2019\",\"03\\u002f01\\u002f2019\",\"04\\u002f01\\u002f2019\",\"07\\u002f01\\u002f2019\",\"08\\u002f01\\u002f2019\",\"11\\u002f01\\u002f2019\",\"14\\u002f01\\u002f2019\",\"15\\u002f01\\u002f2019\",\"16\\u002f01\\u002f2019\",\"18\\u002f01\\u002f2019\",\"22\\u002f01\\u002f2019\",\"23\\u002f01\\u002f2019\",\"24\\u002f01\\u002f2019\",\"28\\u002f01\\u002f2019\",\"29\\u002f01\\u002f2019\",\"30\\u002f01\\u002f2019\",\"31\\u002f01\\u002f2019\",\"04\\u002f02\\u002f2019\",\"05\\u002f02\\u002f2019\",\"06\\u002f02\\u002f2019\",\"07\\u002f02\\u002f2019\",\"11\\u002f02\\u002f2019\",\"12\\u002f02\\u002f2019\",\"15\\u002f02\\u002f2019\",\"25\\u002f02\\u002f2019\",\"01\\u002f03\\u002f2019\",\"08\\u002f03\\u002f2019\",\"11\\u002f03\\u002f2019\",\"19\\u002f03\\u002f2019\",\"20\\u002f03\\u002f2019\",\"21\\u002f03\\u002f2019\",\"22\\u002f03\\u002f2019\",\"25\\u002f03\\u002f2019\",\"26\\u002f03\\u002f2019\",\"27\\u002f03\\u002f2019\",\"28\\u002f03\\u002f2019\",\"01\\u002f04\\u002f2019\",\"02\\u002f04\\u002f2019\",\"04\\u002f04\\u002f2019\",\"12\\u002f04\\u002f2019\",\"15\\u002f04\\u002f2019\",\"16\\u002f04\\u002f2019\",\"17\\u002f04\\u002f2019\",\"18\\u002f04\\u002f2019\",\"22\\u002f04\\u002f2019\",\"24\\u002f04\\u002f2019\",\"25\\u002f04\\u002f2019\",\"29\\u002f04\\u002f2019\",\"30\\u002f04\\u002f2019\",\"02\\u002f05\\u002f2019\",\"03\\u002f05\\u002f2019\",\"08\\u002f05\\u002f2019\",\"13\\u002f05\\u002f2019\",\"14\\u002f05\\u002f2019\",\"15\\u002f05\\u002f2019\",\"20\\u002f05\\u002f2019\",\"21\\u002f05\\u002f2019\",\"23\\u002f05\\u002f2019\",\"24\\u002f05\\u002f2019\",\"28\\u002f05\\u002f2019\",\"29\\u002f05\\u002f2019\",\"03\\u002f06\\u002f2019\",\"04\\u002f06\\u002f2019\",\"10\\u002f06\\u002f2019\",\"13\\u002f06\\u002f2019\",\"17\\u002f06\\u002f2019\",\"18\\u002f06\\u002f2019\",\"19\\u002f06\\u002f2019\",\"25\\u002f06\\u002f2019\",\"26\\u002f06\\u002f2019\",\"02\\u002f07\\u002f2019\",\"05\\u002f07\\u002f2019\",\"08\\u002f07\\u002f2019\",\"11\\u002f07\\u002f2019\",\"15\\u002f07\\u002f2019\",\"18\\u002f07\\u002f2019\",\"22\\u002f07\\u002f2019\",\"23\\u002f07\\u002f2019\",\"24\\u002f07\\u002f2019\",\"26\\u002f07\\u002f2019\",\"30\\u002f07\\u002f2019\",\"06\\u002f08\\u002f2019\",\"07\\u002f08\\u002f2019\",\"08\\u002f08\\u002f2019\",\"09\\u002f08\\u002f2019\",\"12\\u002f08\\u002f2019\",\"13\\u002f08\\u002f2019\",\"14\\u002f08\\u002f2019\",\"15\\u002f08\\u002f2019\",\"19\\u002f08\\u002f2019\",\"20\\u002f08\\u002f2019\",\"21\\u002f08\\u002f2019\",\"26\\u002f08\\u002f2019\",\"27\\u002f08\\u002f2019\",\"29\\u002f08\\u002f2019\",\"30\\u002f08\\u002f2019\",\"03\\u002f09\\u002f2019\",\"05\\u002f09\\u002f2019\",\"10\\u002f09\\u002f2019\",\"13\\u002f09\\u002f2019\",\"17\\u002f09\\u002f2019\",\"18\\u002f09\\u002f2019\",\"20\\u002f09\\u002f2019\",\"23\\u002f09\\u002f2019\",\"24\\u002f09\\u002f2019\",\"25\\u002f09\\u002f2019\",\"26\\u002f09\\u002f2019\",\"27\\u002f09\\u002f2019\",\"01\\u002f10\\u002f2019\",\"03\\u002f10\\u002f2019\",\"04\\u002f10\\u002f2019\",\"09\\u002f10\\u002f2019\",\"10\\u002f10\\u002f2019\",\"11\\u002f10\\u002f2019\",\"14\\u002f10\\u002f2019\",\"15\\u002f10\\u002f2019\",\"16\\u002f10\\u002f2019\",\"17\\u002f10\\u002f2019\",\"18\\u002f10\\u002f2019\",\"21\\u002f10\\u002f2019\",\"22\\u002f10\\u002f2019\",\"28\\u002f10\\u002f2019\",\"29\\u002f10\\u002f2019\",\"31\\u002f10\\u002f2019\",\"01\\u002f11\\u002f2019\",\"04\\u002f11\\u002f2019\",\"05\\u002f11\\u002f2019\",\"06\\u002f11\\u002f2019\",\"11\\u002f11\\u002f2019\",\"12\\u002f11\\u002f2019\",\"13\\u002f11\\u002f2019\",\"14\\u002f11\\u002f2019\",\"18\\u002f11\\u002f2019\",\"19\\u002f11\\u002f2019\",\"21\\u002f11\\u002f2019\",\"22\\u002f11\\u002f2019\",\"26\\u002f11\\u002f2019\",\"29\\u002f11\\u002f2019\",\"02\\u002f12\\u002f2019\",\"03\\u002f12\\u002f2019\",\"04\\u002f12\\u002f2019\",\"05\\u002f12\\u002f2019\",\"09\\u002f12\\u002f2019\",\"10\\u002f12\\u002f2019\",\"12\\u002f12\\u002f2019\",\"13\\u002f12\\u002f2019\",\"16\\u002f12\\u002f2019\",\"17\\u002f12\\u002f2019\",\"18\\u002f12\\u002f2019\",\"19\\u002f12\\u002f2019\",\"20\\u002f12\\u002f2019\",\"23\\u002f12\\u002f2019\",\"26\\u002f12\\u002f2019\",\"27\\u002f12\\u002f2019\",\"30\\u002f12\\u002f2019\",\"02\\u002f01\\u002f2020\",\"03\\u002f01\\u002f2020\",\"06\\u002f01\\u002f2020\",\"07\\u002f01\\u002f2020\",\"08\\u002f01\\u002f2020\",\"09\\u002f01\\u002f2020\",\"10\\u002f01\\u002f2020\",\"13\\u002f01\\u002f2020\",\"14\\u002f01\\u002f2020\",\"15\\u002f01\\u002f2020\",\"17\\u002f01\\u002f2020\",\"21\\u002f01\\u002f2020\",\"22\\u002f01\\u002f2020\",\"23\\u002f01\\u002f2020\",\"24\\u002f01\\u002f2020\",\"27\\u002f01\\u002f2020\",\"28\\u002f01\\u002f2020\",\"29\\u002f01\\u002f2020\",\"30\\u002f01\\u002f2020\",\"31\\u002f01\\u002f2020\",\"03\\u002f02\\u002f2020\",\"04\\u002f02\\u002f2020\",\"05\\u002f02\\u002f2020\",\"06\\u002f02\\u002f2020\",\"07\\u002f02\\u002f2020\",\"11\\u002f02\\u002f2020\",\"12\\u002f02\\u002f2020\",\"13\\u002f02\\u002f2020\",\"14\\u002f02\\u002f2020\",\"18\\u002f02\\u002f2020\",\"19\\u002f02\\u002f2020\",\"20\\u002f02\\u002f2020\",\"21\\u002f02\\u002f2020\",\"26\\u002f02\\u002f2020\",\"28\\u002f02\\u002f2020\",\"02\\u002f03\\u002f2020\",\"03\\u002f03\\u002f2020\",\"04\\u002f03\\u002f2020\",\"05\\u002f03\\u002f2020\",\"06\\u002f03\\u002f2020\",\"09\\u002f03\\u002f2020\",\"10\\u002f03\\u002f2020\",\"11\\u002f03\\u002f2020\",\"12\\u002f03\\u002f2020\",\"13\\u002f03\\u002f2020\",\"16\\u002f03\\u002f2020\",\"17\\u002f03\\u002f2020\",\"18\\u002f03\\u002f2020\",\"19\\u002f03\\u002f2020\",\"20\\u002f03\\u002f2020\",\"23\\u002f03\\u002f2020\",\"24\\u002f03\\u002f2020\",\"25\\u002f03\\u002f2020\",\"26\\u002f03\\u002f2020\",\"30\\u002f03\\u002f2020\",\"31\\u002f03\\u002f2020\",\"01\\u002f04\\u002f2020\",\"02\\u002f04\\u002f2020\",\"03\\u002f04\\u002f2020\",\"06\\u002f04\\u002f2020\",\"07\\u002f04\\u002f2020\",\"08\\u002f04\\u002f2020\",\"09\\u002f04\\u002f2020\",\"13\\u002f04\\u002f2020\",\"14\\u002f04\\u002f2020\",\"15\\u002f04\\u002f2020\",\"16\\u002f04\\u002f2020\",\"20\\u002f04\\u002f2020\",\"22\\u002f04\\u002f2020\",\"23\\u002f04\\u002f2020\",\"24\\u002f04\\u002f2020\",\"28\\u002f04\\u002f2020\",\"29\\u002f04\\u002f2020\",\"30\\u002f04\\u002f2020\",\"04\\u002f05\\u002f2020\",\"06\\u002f05\\u002f2020\",\"07\\u002f05\\u002f2020\",\"08\\u002f05\\u002f2020\",\"11\\u002f05\\u002f2020\",\"13\\u002f05\\u002f2020\",\"14\\u002f05\\u002f2020\",\"15\\u002f05\\u002f2020\",\"18\\u002f05\\u002f2020\",\"19\\u002f05\\u002f2020\",\"20\\u002f05\\u002f2020\",\"21\\u002f05\\u002f2020\",\"22\\u002f05\\u002f2020\",\"26\\u002f05\\u002f2020\",\"27\\u002f05\\u002f2020\",\"28\\u002f05\\u002f2020\",\"29\\u002f05\\u002f2020\",\"01\\u002f06\\u002f2020\",\"02\\u002f06\\u002f2020\",\"03\\u002f06\\u002f2020\",\"04\\u002f06\\u002f2020\",\"05\\u002f06\\u002f2020\",\"08\\u002f06\\u002f2020\",\"09\\u002f06\\u002f2020\",\"10\\u002f06\\u002f2020\",\"12\\u002f06\\u002f2020\",\"15\\u002f06\\u002f2020\",\"16\\u002f06\\u002f2020\",\"17\\u002f06\\u002f2020\",\"18\\u002f06\\u002f2020\",\"19\\u002f06\\u002f2020\",\"22\\u002f06\\u002f2020\",\"23\\u002f06\\u002f2020\",\"24\\u002f06\\u002f2020\",\"25\\u002f06\\u002f2020\",\"26\\u002f06\\u002f2020\",\"29\\u002f06\\u002f2020\",\"30\\u002f06\\u002f2020\",\"01\\u002f07\\u002f2020\",\"02\\u002f07\\u002f2020\",\"06\\u002f07\\u002f2020\",\"07\\u002f07\\u002f2020\",\"08\\u002f07\\u002f2020\",\"13\\u002f07\\u002f2020\",\"14\\u002f07\\u002f2020\",\"15\\u002f07\\u002f2020\",\"16\\u002f07\\u002f2020\",\"17\\u002f07\\u002f2020\",\"20\\u002f07\\u002f2020\",\"21\\u002f07\\u002f2020\",\"22\\u002f07\\u002f2020\",\"23\\u002f07\\u002f2020\",\"24\\u002f07\\u002f2020\",\"27\\u002f07\\u002f2020\",\"28\\u002f07\\u002f2020\",\"29\\u002f07\\u002f2020\",\"30\\u002f07\\u002f2020\",\"03\\u002f08\\u002f2020\",\"04\\u002f08\\u002f2020\",\"05\\u002f08\\u002f2020\",\"06\\u002f08\\u002f2020\",\"07\\u002f08\\u002f2020\",\"10\\u002f08\\u002f2020\",\"11\\u002f08\\u002f2020\",\"12\\u002f08\\u002f2020\",\"13\\u002f08\\u002f2020\",\"14\\u002f08\\u002f2020\",\"17\\u002f08\\u002f2020\",\"18\\u002f08\\u002f2020\",\"19\\u002f08\\u002f2020\",\"20\\u002f08\\u002f2020\",\"21\\u002f08\\u002f2020\",\"24\\u002f08\\u002f2020\",\"31\\u002f08\\u002f2020\",\"01\\u002f09\\u002f2020\",\"02\\u002f09\\u002f2020\",\"03\\u002f09\\u002f2020\",\"04\\u002f09\\u002f2020\",\"08\\u002f09\\u002f2020\",\"09\\u002f09\\u002f2020\",\"10\\u002f09\\u002f2020\",\"11\\u002f09\\u002f2020\",\"14\\u002f09\\u002f2020\",\"15\\u002f09\\u002f2020\",\"16\\u002f09\\u002f2020\",\"17\\u002f09\\u002f2020\",\"18\\u002f09\\u002f2020\",\"21\\u002f09\\u002f2020\",\"22\\u002f09\\u002f2020\",\"23\\u002f09\\u002f2020\",\"24\\u002f09\\u002f2020\",\"25\\u002f09\\u002f2020\",\"28\\u002f09\\u002f2020\",\"29\\u002f09\\u002f2020\",\"01\\u002f10\\u002f2020\",\"02\\u002f10\\u002f2020\",\"05\\u002f10\\u002f2020\",\"06\\u002f10\\u002f2020\",\"07\\u002f10\\u002f2020\",\"08\\u002f10\\u002f2020\",\"09\\u002f10\\u002f2020\",\"13\\u002f10\\u002f2020\",\"14\\u002f10\\u002f2020\",\"15\\u002f10\\u002f2020\",\"16\\u002f10\\u002f2020\",\"19\\u002f10\\u002f2020\",\"20\\u002f10\\u002f2020\",\"21\\u002f10\\u002f2020\",\"22\\u002f10\\u002f2020\",\"23\\u002f10\\u002f2020\",\"26\\u002f10\\u002f2020\",\"27\\u002f10\\u002f2020\",\"29\\u002f10\\u002f2020\",\"30\\u002f10\\u002f2020\",\"03\\u002f11\\u002f2020\",\"05\\u002f11\\u002f2020\",\"06\\u002f11\\u002f2020\",\"09\\u002f11\\u002f2020\",\"10\\u002f11\\u002f2020\",\"11\\u002f11\\u002f2020\",\"12\\u002f11\\u002f2020\",\"13\\u002f11\\u002f2020\",\"16\\u002f11\\u002f2020\",\"17\\u002f11\\u002f2020\",\"18\\u002f11\\u002f2020\",\"19\\u002f11\\u002f2020\",\"20\\u002f11\\u002f2020\",\"23\\u002f11\\u002f2020\",\"24\\u002f11\\u002f2020\",\"25\\u002f11\\u002f2020\",\"26\\u002f11\\u002f2020\",\"27\\u002f11\\u002f2020\",\"30\\u002f11\\u002f2020\",\"02\\u002f12\\u002f2020\",\"03\\u002f12\\u002f2020\",\"04\\u002f12\\u002f2020\",\"07\\u002f12\\u002f2020\",\"08\\u002f12\\u002f2020\",\"09\\u002f12\\u002f2020\",\"10\\u002f12\\u002f2020\",\"11\\u002f12\\u002f2020\",\"14\\u002f12\\u002f2020\",\"15\\u002f12\\u002f2020\",\"16\\u002f12\\u002f2020\",\"17\\u002f12\\u002f2020\",\"18\\u002f12\\u002f2020\",\"21\\u002f12\\u002f2020\",\"23\\u002f12\\u002f2020\",\"28\\u002f12\\u002f2020\",\"29\\u002f12\\u002f2020\",\"30\\u002f12\\u002f2020\",\"04\\u002f01\\u002f2021\",\"05\\u002f01\\u002f2021\",\"06\\u002f01\\u002f2021\",\"07\\u002f01\\u002f2021\",\"08\\u002f01\\u002f2021\",\"11\\u002f01\\u002f2021\",\"12\\u002f01\\u002f2021\",\"13\\u002f01\\u002f2021\",\"14\\u002f01\\u002f2021\",\"15\\u002f01\\u002f2021\",\"19\\u002f01\\u002f2021\",\"20\\u002f01\\u002f2021\",\"22\\u002f01\\u002f2021\",\"26\\u002f01\\u002f2021\",\"28\\u002f01\\u002f2021\",\"29\\u002f01\\u002f2021\",\"01\\u002f02\\u002f2021\",\"02\\u002f02\\u002f2021\",\"03\\u002f02\\u002f2021\",\"04\\u002f02\\u002f2021\",\"05\\u002f02\\u002f2021\",\"09\\u002f02\\u002f2021\",\"10\\u002f02\\u002f2021\",\"11\\u002f02\\u002f2021\",\"12\\u002f02\\u002f2021\",\"17\\u002f02\\u002f2021\",\"18\\u002f02\\u002f2021\",\"19\\u002f02\\u002f2021\",\"22\\u002f02\\u002f2021\",\"23\\u002f02\\u002f2021\",\"24\\u002f02\\u002f2021\",\"25\\u002f02\\u002f2021\",\"26\\u002f02\\u002f2021\",\"01\\u002f03\\u002f2021\",\"02\\u002f03\\u002f2021\",\"03\\u002f03\\u002f2021\",\"04\\u002f03\\u002f2021\",\"05\\u002f03\\u002f2021\",\"08\\u002f03\\u002f2021\",\"09\\u002f03\\u002f2021\",\"10\\u002f03\\u002f2021\",\"11\\u002f03\\u002f2021\",\"12\\u002f03\\u002f2021\",\"15\\u002f03\\u002f2021\",\"17\\u002f03\\u002f2021\",\"18\\u002f03\\u002f2021\",\"19\\u002f03\\u002f2021\",\"22\\u002f03\\u002f2021\",\"23\\u002f03\\u002f2021\",\"24\\u002f03\\u002f2021\",\"25\\u002f03\\u002f2021\",\"26\\u002f03\\u002f2021\",\"29\\u002f03\\u002f2021\",\"30\\u002f03\\u002f2021\",\"31\\u002f03\\u002f2021\",\"01\\u002f04\\u002f2021\",\"05\\u002f04\\u002f2021\",\"06\\u002f04\\u002f2021\",\"07\\u002f04\\u002f2021\",\"08\\u002f04\\u002f2021\",\"09\\u002f04\\u002f2021\",\"12\\u002f04\\u002f2021\",\"13\\u002f04\\u002f2021\",\"14\\u002f04\\u002f2021\",\"15\\u002f04\\u002f2021\",\"16\\u002f04\\u002f2021\",\"19\\u002f04\\u002f2021\",\"20\\u002f04\\u002f2021\",\"22\\u002f04\\u002f2021\",\"23\\u002f04\\u002f2021\",\"26\\u002f04\\u002f2021\",\"27\\u002f04\\u002f2021\",\"28\\u002f04\\u002f2021\",\"29\\u002f04\\u002f2021\",\"30\\u002f04\\u002f2021\",\"03\\u002f05\\u002f2021\",\"04\\u002f05\\u002f2021\",\"05\\u002f05\\u002f2021\",\"06\\u002f05\\u002f2021\",\"07\\u002f05\\u002f2021\",\"10\\u002f05\\u002f2021\",\"11\\u002f05\\u002f2021\",\"14\\u002f05\\u002f2021\",\"17\\u002f05\\u002f2021\",\"18\\u002f05\\u002f2021\",\"19\\u002f05\\u002f2021\",\"20\\u002f05\\u002f2021\",\"21\\u002f05\\u002f2021\",\"24\\u002f05\\u002f2021\",\"25\\u002f05\\u002f2021\",\"26\\u002f05\\u002f2021\",\"27\\u002f05\\u002f2021\",\"28\\u002f05\\u002f2021\",\"31\\u002f05\\u002f2021\",\"01\\u002f06\\u002f2021\",\"02\\u002f06\\u002f2021\",\"04\\u002f06\\u002f2021\",\"07\\u002f06\\u002f2021\",\"08\\u002f06\\u002f2021\",\"09\\u002f06\\u002f2021\",\"10\\u002f06\\u002f2021\",\"11\\u002f06\\u002f2021\",\"14\\u002f06\\u002f2021\",\"15\\u002f06\\u002f2021\",\"16\\u002f06\\u002f2021\",\"17\\u002f06\\u002f2021\",\"18\\u002f06\\u002f2021\",\"21\\u002f06\\u002f2021\",\"22\\u002f06\\u002f2021\",\"24\\u002f06\\u002f2021\",\"25\\u002f06\\u002f2021\",\"28\\u002f06\\u002f2021\",\"30\\u002f06\\u002f2021\",\"01\\u002f07\\u002f2021\",\"02\\u002f07\\u002f2021\",\"05\\u002f07\\u002f2021\",\"06\\u002f07\\u002f2021\",\"07\\u002f07\\u002f2021\",\"08\\u002f07\\u002f2021\",\"12\\u002f07\\u002f2021\",\"13\\u002f07\\u002f2021\",\"14\\u002f07\\u002f2021\",\"15\\u002f07\\u002f2021\",\"16\\u002f07\\u002f2021\",\"19\\u002f07\\u002f2021\",\"20\\u002f07\\u002f2021\",\"21\\u002f07\\u002f2021\",\"22\\u002f07\\u002f2021\",\"23\\u002f07\\u002f2021\",\"26\\u002f07\\u002f2021\",\"27\\u002f07\\u002f2021\",\"28\\u002f07\\u002f2021\",\"29\\u002f07\\u002f2021\",\"30\\u002f07\\u002f2021\",\"02\\u002f08\\u002f2021\",\"03\\u002f08\\u002f2021\",\"04\\u002f08\\u002f2021\",\"05\\u002f08\\u002f2021\",\"06\\u002f08\\u002f2021\",\"09\\u002f08\\u002f2021\",\"10\\u002f08\\u002f2021\",\"11\\u002f08\\u002f2021\",\"12\\u002f08\\u002f2021\",\"13\\u002f08\\u002f2021\",\"16\\u002f08\\u002f2021\",\"17\\u002f08\\u002f2021\",\"18\\u002f08\\u002f2021\",\"19\\u002f08\\u002f2021\",\"20\\u002f08\\u002f2021\",\"23\\u002f08\\u002f2021\",\"24\\u002f08\\u002f2021\",\"25\\u002f08\\u002f2021\",\"26\\u002f08\\u002f2021\",\"27\\u002f08\\u002f2021\",\"30\\u002f08\\u002f2021\",\"31\\u002f08\\u002f2021\",\"01\\u002f09\\u002f2021\",\"02\\u002f09\\u002f2021\",\"03\\u002f09\\u002f2021\",\"06\\u002f09\\u002f2021\",\"08\\u002f09\\u002f2021\",\"09\\u002f09\\u002f2021\",\"10\\u002f09\\u002f2021\",\"13\\u002f09\\u002f2021\",\"14\\u002f09\\u002f2021\",\"15\\u002f09\\u002f2021\",\"16\\u002f09\\u002f2021\",\"17\\u002f09\\u002f2021\",\"20\\u002f09\\u002f2021\",\"21\\u002f09\\u002f2021\",\"22\\u002f09\\u002f2021\",\"23\\u002f09\\u002f2021\",\"24\\u002f09\\u002f2021\",\"27\\u002f09\\u002f2021\",\"28\\u002f09\\u002f2021\",\"29\\u002f09\\u002f2021\",\"30\\u002f09\\u002f2021\",\"04\\u002f10\\u002f2021\",\"05\\u002f10\\u002f2021\",\"06\\u002f10\\u002f2021\",\"07\\u002f10\\u002f2021\",\"08\\u002f10\\u002f2021\",\"13\\u002f10\\u002f2021\",\"14\\u002f10\\u002f2021\",\"15\\u002f10\\u002f2021\",\"18\\u002f10\\u002f2021\",\"19\\u002f10\\u002f2021\",\"20\\u002f10\\u002f2021\",\"21\\u002f10\\u002f2021\",\"22\\u002f10\\u002f2021\",\"25\\u002f10\\u002f2021\",\"26\\u002f10\\u002f2021\",\"27\\u002f10\\u002f2021\",\"28\\u002f10\\u002f2021\",\"29\\u002f10\\u002f2021\",\"01\\u002f11\\u002f2021\",\"03\\u002f11\\u002f2021\",\"04\\u002f11\\u002f2021\",\"05\\u002f11\\u002f2021\",\"08\\u002f11\\u002f2021\",\"09\\u002f11\\u002f2021\",\"10\\u002f11\\u002f2021\",\"11\\u002f11\\u002f2021\",\"12\\u002f11\\u002f2021\",\"16\\u002f11\\u002f2021\",\"17\\u002f11\\u002f2021\",\"18\\u002f11\\u002f2021\",\"19\\u002f11\\u002f2021\",\"22\\u002f11\\u002f2021\",\"23\\u002f11\\u002f2021\",\"24\\u002f11\\u002f2021\",\"25\\u002f11\\u002f2021\",\"26\\u002f11\\u002f2021\",\"29\\u002f11\\u002f2021\",\"30\\u002f11\\u002f2021\",\"01\\u002f12\\u002f2021\",\"02\\u002f12\\u002f2021\",\"03\\u002f12\\u002f2021\",\"07\\u002f12\\u002f2021\",\"08\\u002f12\\u002f2021\",\"09\\u002f12\\u002f2021\",\"13\\u002f12\\u002f2021\",\"14\\u002f12\\u002f2021\",\"15\\u002f12\\u002f2021\",\"16\\u002f12\\u002f2021\",\"17\\u002f12\\u002f2021\",\"20\\u002f12\\u002f2021\",\"21\\u002f12\\u002f2021\",\"22\\u002f12\\u002f2021\",\"23\\u002f12\\u002f2021\",\"27\\u002f12\\u002f2021\",\"28\\u002f12\\u002f2021\",\"29\\u002f12\\u002f2021\",\"30\\u002f12\\u002f2021\",\"03\\u002f01\\u002f2022\",\"04\\u002f01\\u002f2022\",\"05\\u002f01\\u002f2022\",\"06\\u002f01\\u002f2022\",\"07\\u002f01\\u002f2022\",\"10\\u002f01\\u002f2022\",\"11\\u002f01\\u002f2022\",\"12\\u002f01\\u002f2022\",\"13\\u002f01\\u002f2022\",\"14\\u002f01\\u002f2022\",\"17\\u002f01\\u002f2022\",\"18\\u002f01\\u002f2022\",\"19\\u002f01\\u002f2022\",\"20\\u002f01\\u002f2022\",\"21\\u002f01\\u002f2022\",\"24\\u002f01\\u002f2022\",\"25\\u002f01\\u002f2022\",\"27\\u002f01\\u002f2022\",\"28\\u002f01\\u002f2022\",\"31\\u002f01\\u002f2022\",\"01\\u002f02\\u002f2022\",\"02\\u002f02\\u002f2022\",\"03\\u002f02\\u002f2022\",\"04\\u002f02\\u002f2022\",\"07\\u002f02\\u002f2022\",\"08\\u002f02\\u002f2022\",\"09\\u002f02\\u002f2022\",\"10\\u002f02\\u002f2022\",\"14\\u002f02\\u002f2022\",\"15\\u002f02\\u002f2022\",\"16\\u002f02\\u002f2022\",\"17\\u002f02\\u002f2022\",\"18\\u002f02\\u002f2022\",\"21\\u002f02\\u002f2022\",\"22\\u002f02\\u002f2022\",\"23\\u002f02\\u002f2022\",\"24\\u002f02\\u002f2022\",\"25\\u002f02\\u002f2022\",\"02\\u002f03\\u002f2022\",\"03\\u002f03\\u002f2022\",\"04\\u002f03\\u002f2022\",\"07\\u002f03\\u002f2022\",\"08\\u002f03\\u002f2022\",\"09\\u002f03\\u002f2022\",\"10\\u002f03\\u002f2022\",\"11\\u002f03\\u002f2022\",\"14\\u002f03\\u002f2022\",\"15\\u002f03\\u002f2022\",\"16\\u002f03\\u002f2022\",\"17\\u002f03\\u002f2022\",\"18\\u002f03\\u002f2022\",\"21\\u002f03\\u002f2022\",\"22\\u002f03\\u002f2022\",\"23\\u002f03\\u002f2022\",\"24\\u002f03\\u002f2022\",\"25\\u002f03\\u002f2022\",\"28\\u002f03\\u002f2022\",\"29\\u002f03\\u002f2022\",\"30\\u002f03\\u002f2022\",\"01\\u002f04\\u002f2022\",\"04\\u002f04\\u002f2022\",\"05\\u002f04\\u002f2022\",\"06\\u002f04\\u002f2022\",\"07\\u002f04\\u002f2022\",\"08\\u002f04\\u002f2022\",\"11\\u002f04\\u002f2022\",\"12\\u002f04\\u002f2022\",\"13\\u002f04\\u002f2022\",\"14\\u002f04\\u002f2022\",\"18\\u002f04\\u002f2022\",\"19\\u002f04\\u002f2022\",\"20\\u002f04\\u002f2022\",\"22\\u002f04\\u002f2022\",\"25\\u002f04\\u002f2022\",\"26\\u002f04\\u002f2022\",\"27\\u002f04\\u002f2022\",\"28\\u002f04\\u002f2022\",\"29\\u002f04\\u002f2022\",\"02\\u002f05\\u002f2022\",\"03\\u002f05\\u002f2022\",\"04\\u002f05\\u002f2022\",\"05\\u002f05\\u002f2022\",\"06\\u002f05\\u002f2022\",\"09\\u002f05\\u002f2022\",\"10\\u002f05\\u002f2022\",\"11\\u002f05\\u002f2022\",\"12\\u002f05\\u002f2022\",\"13\\u002f05\\u002f2022\",\"17\\u002f05\\u002f2022\",\"18\\u002f05\\u002f2022\",\"20\\u002f05\\u002f2022\",\"23\\u002f05\\u002f2022\",\"24\\u002f05\\u002f2022\",\"25\\u002f05\\u002f2022\",\"26\\u002f05\\u002f2022\",\"27\\u002f05\\u002f2022\",\"30\\u002f05\\u002f2022\",\"31\\u002f05\\u002f2022\",\"01\\u002f06\\u002f2022\",\"02\\u002f06\\u002f2022\",\"03\\u002f06\\u002f2022\",\"06\\u002f06\\u002f2022\",\"07\\u002f06\\u002f2022\",\"08\\u002f06\\u002f2022\",\"09\\u002f06\\u002f2022\",\"10\\u002f06\\u002f2022\",\"13\\u002f06\\u002f2022\",\"14\\u002f06\\u002f2022\",\"15\\u002f06\\u002f2022\",\"17\\u002f06\\u002f2022\",\"20\\u002f06\\u002f2022\",\"21\\u002f06\\u002f2022\",\"22\\u002f06\\u002f2022\",\"23\\u002f06\\u002f2022\",\"24\\u002f06\\u002f2022\",\"27\\u002f06\\u002f2022\",\"28\\u002f06\\u002f2022\",\"29\\u002f06\\u002f2022\",\"30\\u002f06\\u002f2022\",\"01\\u002f07\\u002f2022\",\"04\\u002f07\\u002f2022\",\"05\\u002f07\\u002f2022\",\"06\\u002f07\\u002f2022\",\"07\\u002f07\\u002f2022\",\"08\\u002f07\\u002f2022\",\"11\\u002f07\\u002f2022\",\"12\\u002f07\\u002f2022\",\"13\\u002f07\\u002f2022\",\"14\\u002f07\\u002f2022\",\"15\\u002f07\\u002f2022\",\"18\\u002f07\\u002f2022\",\"19\\u002f07\\u002f2022\",\"20\\u002f07\\u002f2022\",\"21\\u002f07\\u002f2022\",\"22\\u002f07\\u002f2022\",\"25\\u002f07\\u002f2022\",\"26\\u002f07\\u002f2022\",\"27\\u002f07\\u002f2022\",\"28\\u002f07\\u002f2022\",\"29\\u002f07\\u002f2022\",\"01\\u002f08\\u002f2022\",\"02\\u002f08\\u002f2022\",\"03\\u002f08\\u002f2022\",\"04\\u002f08\\u002f2022\",\"05\\u002f08\\u002f2022\",\"08\\u002f08\\u002f2022\",\"09\\u002f08\\u002f2022\",\"10\\u002f08\\u002f2022\",\"12\\u002f08\\u002f2022\",\"15\\u002f08\\u002f2022\",\"16\\u002f08\\u002f2022\",\"17\\u002f08\\u002f2022\",\"18\\u002f08\\u002f2022\",\"19\\u002f08\\u002f2022\",\"22\\u002f08\\u002f2022\",\"23\\u002f08\\u002f2022\",\"24\\u002f08\\u002f2022\",\"25\\u002f08\\u002f2022\",\"26\\u002f08\\u002f2022\",\"29\\u002f08\\u002f2022\",\"30\\u002f08\\u002f2022\",\"31\\u002f08\\u002f2022\",\"01\\u002f09\\u002f2022\",\"02\\u002f09\\u002f2022\",\"05\\u002f09\\u002f2022\",\"06\\u002f09\\u002f2022\",\"08\\u002f09\\u002f2022\",\"09\\u002f09\\u002f2022\",\"12\\u002f09\\u002f2022\",\"13\\u002f09\\u002f2022\",\"14\\u002f09\\u002f2022\",\"15\\u002f09\\u002f2022\",\"16\\u002f09\\u002f2022\",\"19\\u002f09\\u002f2022\",\"20\\u002f09\\u002f2022\",\"21\\u002f09\\u002f2022\",\"22\\u002f09\\u002f2022\",\"23\\u002f09\\u002f2022\",\"26\\u002f09\\u002f2022\",\"27\\u002f09\\u002f2022\",\"28\\u002f09\\u002f2022\",\"29\\u002f09\\u002f2022\",\"30\\u002f09\\u002f2022\",\"03\\u002f10\\u002f2022\",\"04\\u002f10\\u002f2022\",\"05\\u002f10\\u002f2022\",\"06\\u002f10\\u002f2022\",\"07\\u002f10\\u002f2022\",\"10\\u002f10\\u002f2022\",\"11\\u002f10\\u002f2022\",\"13\\u002f10\\u002f2022\",\"14\\u002f10\\u002f2022\",\"17\\u002f10\\u002f2022\",\"18\\u002f10\\u002f2022\",\"19\\u002f10\\u002f2022\",\"20\\u002f10\\u002f2022\",\"21\\u002f10\\u002f2022\",\"24\\u002f10\\u002f2022\",\"25\\u002f10\\u002f2022\",\"26\\u002f10\\u002f2022\",\"27\\u002f10\\u002f2022\",\"28\\u002f10\\u002f2022\",\"31\\u002f10\\u002f2022\",\"01\\u002f11\\u002f2022\",\"03\\u002f11\\u002f2022\",\"04\\u002f11\\u002f2022\",\"07\\u002f11\\u002f2022\",\"08\\u002f11\\u002f2022\",\"09\\u002f11\\u002f2022\",\"10\\u002f11\\u002f2022\",\"11\\u002f11\\u002f2022\",\"14\\u002f11\\u002f2022\",\"16\\u002f11\\u002f2022\",\"17\\u002f11\\u002f2022\",\"18\\u002f11\\u002f2022\",\"21\\u002f11\\u002f2022\",\"22\\u002f11\\u002f2022\",\"23\\u002f11\\u002f2022\",\"24\\u002f11\\u002f2022\",\"25\\u002f11\\u002f2022\",\"28\\u002f11\\u002f2022\",\"29\\u002f11\\u002f2022\",\"30\\u002f11\\u002f2022\",\"01\\u002f12\\u002f2022\",\"02\\u002f12\\u002f2022\",\"05\\u002f12\\u002f2022\",\"06\\u002f12\\u002f2022\",\"07\\u002f12\\u002f2022\",\"08\\u002f12\\u002f2022\",\"09\\u002f12\\u002f2022\",\"12\\u002f12\\u002f2022\",\"13\\u002f12\\u002f2022\",\"14\\u002f12\\u002f2022\",\"15\\u002f12\\u002f2022\",\"16\\u002f12\\u002f2022\",\"19\\u002f12\\u002f2022\",\"20\\u002f12\\u002f2022\",\"21\\u002f12\\u002f2022\",\"22\\u002f12\\u002f2022\",\"23\\u002f12\\u002f2022\",\"26\\u002f12\\u002f2022\",\"27\\u002f12\\u002f2022\",\"28\\u002f12\\u002f2022\",\"29\\u002f12\\u002f2022\",\"02\\u002f01\\u002f2023\",\"03\\u002f01\\u002f2023\",\"04\\u002f01\\u002f2023\",\"05\\u002f01\\u002f2023\",\"06\\u002f01\\u002f2023\",\"09\\u002f01\\u002f2023\",\"10\\u002f01\\u002f2023\"],\"xaxis\":\"x\",\"y\":[13.14,13.3,14.03,14.5,14.11,14.17,14.16,16.17,17.16,18.07,17.8,17.56,17.07,17.5,17.01,16.02,17.24,18.39,18.04,18.91,19.12,20.42,20.8,20.61,21.37,20.97,21.03,21.2,20.57,20.9,20.56,20.06,20.09,19.25,18.71,19.6,19.5,19.65,20.21,20.56,21.08,21.35,21.01,22.72,22.57,22.1,21.21,21.41,22.38,22.63,23.23,23.33,23.39,23.68,24.27,24.19,25.12,25.56,25.74,26.1,26.5,26.99,27.05,27.79,27.94,28.12,26.82,26.98,27.02,29.77,29.35,29.15,30.22,30.9,31.2,29.01,30.33,31.5,30.45,31.18,30.68,32.43,30.92,29.34,28.2,27.33,26.82,26.91,25.01,25.69,26.16,26.38,26.3,26.83,26.22,25.61,24.86,25.95,27.17,27.9,27.97,29.25,30.34,30.36,30.42,31.61,29.94,30.26,28.3,28.76,28.94,30.41,30.71,29.03,30.07,30.36,30.27,30.4,30.58,30.39,30.9,29.62,29.35,29.17,27.19,26.35,24.72,24.09,24.94,24.9,25.72,24.85,25.04,22.8,23.24,22.04,20.74,20.23,22.54,23.25,23.47,24.43,24.27,22.59,21.56,20.43,20.09,20.39,20.97,22.03,22.05,21.76,20.9,21.49,21.36,21.21,19.79,19.24,18.99,20.32,20.38,21.93,23.42,23.79,25.01,24.69,26.43,26.23,25.88,24.87,24.19,24.54,24.99,24.37,24.92,24.78,25.53,25.72,25.94,25.65,25.85,26.35,26.85,27.58,27.16,26.73,27.49,27.21,28.02,28.63,28.29,28.21,27.92,27.77,27.75,28.38,28.43,28.28,27.27,26.98,28.24,27.73,28.24,29.46,29.98,29.32,29.79,29.65,29.96,29.94,28.82,27.62,27.93,28.3,28.53,28.68,28.4,28.48,29.05,27.68,26.21,27.08,27.38,26.44,27.37,27.35,27.76,27.8,27.81,28.81,29.02,28.7,28.55,27.47,24.15,23.2,23.18,24.08,25.18,24.69,24.64,24.19,24.68,24.52,24.72,24.7,24.18,23.55,25.13,24.28,23.98,24.32,24.06,24.72,24.18,24.18,24.04,23.38,24.2,24.24,23.82,22.46,22.14,21.2,22.13,22.02,21.94,22.49,21.92,22.2,21.97,22.95,23.39,23.72,23.67,23.79,24.57,22.9,22.99,21.8,22.6,22.63,23.08,22.96,23.57,23.01,23.55,24.45,24.29,23.9,24.22,25.54,25.5,26.08,26.04,26.68,26.62,26.19,25.68,25.68,25.34,25.1,24.41,24.24,24.59,24.94,25.63,26.3,26.91,27.57,27.3,27.36,26.76,26.16,26.61,26.42,27.22,26.94,27.64,27.64,26.98,28.26,28.04,28.46,28.2,28.16,27.51,28.38,29.4,28.95,29.42,28.94,29.3,29.2,30.34,31.27,31.22,31.37,31.85,32.5,33.18,33.39,32.84,33.98,34.04,33.73,33.5,33.81,32.15,33.55,33.39,34.85,34.73,33.26,32.88,33.44,33.8,30.37,30.84,31.32,31.77,32.97,34.53,33.89,36.95,36.52,34.99,35.41,38.67,38.67,38.2,38.04,38.32,39.9,39.25,38.28,37.57,41.19,42.8,45.09,45.89,46.2,45.78,46.9,48.12,44.72,44.47,45.46,47.04,49.72,51.2,50.14,51.54,52.76,51.64,52.56,51.8,52.35,50.9,48.65,48.2,44.42,43.32,44.72,44.69,45.57,44.36,43.19,42.51,41.9,40.88,42.17,42.94,41.98,43.72,45.26,47.07,48.1,47.8,49.23,48.36,49.02,49.72,48.67,48.48,49.38,51.57,51.72,51.8,53.27,53.74,56.6,55.4,55.01,56.33,53.01,53.8,51.36,50.39,49.72,49.97,51.75,50.96,50.35,50.3,53.13,53.77,53.68,54.6,53.5,53.13,50.8,52.06,51.8,52.32,53.35,53.89,53.83,55.11,55.32,54.7,58.05,59.8,59.42,55.57,55.08,54.49,52.48,51.85,51.67,50.41,52.24,51.04,48.98,50.3,52.63,53.39,52.67,52.19,53.74,55.03,55.7,59.08,57.32,58.03,56.7,60.29,59.56,59.3,62.07,61.08,60.92,60.85,59.72,59.11,55.07,54.5,54.95,54.85,55.6,58.2,54.44,56.29,56.76,55.86,51.06,52.33,53.08,53.01,52.9,51.95,51.4,52.97,51.57,52.4,52.7,51.9,51.87,51.96,52.3,52.54,52.75,51.37,51.39,52.96,52.46,51.1,50.67,51.8,53.66,53.12,51.92,53.98,54.25,54.95,53.7,52.5,55.35,54.75,55.3,55.06,53.36,55.15,55.4,54.81,52.72,54.02,52.15,52.3,53.62,60.2,62.29,60.35,59.45,58.5,58.9,59.09,58.38,60.05,59.64,60.5,60.7,60.15,59.85,59.58,59.75,58.27,58.3,59.32,59.95,60.11,60.3,62.05,63.15,58.46,57.51,58.85,57.96,58.95,57.51,58.79,57.5,58.6,58.79,56.25,56.02,57.75,59.12,58.7,57.17,58.25,59.8,59.15,58.7,61.59,61.2,61.05,61.7,61.89,63.81,62.91,63.65,61.3,61.5,61.5,61.47,59.9,55.2,55.33,55.3,54.66,54.28,54.16,55.8,55.25,54.73,53.32,52.76,52.86,51.01,51.01,51.9,51.3,51.18,51.82,52.97,53.3,53.69,53.52,53.45,52.91,52.58,52.7,51.4,50.85,50.63,49.8,49.78,49.57,49.7,50.13,50.99,49.68,49.91,50.26,50.93,50.49,50.85,50.83,52.05,52.85,52.55,53.72,53.9,53.69,56.57,56.16,55.95,55.6,56.09,55.88,55.41,54.03,55.65,55.62,53.2,53.8,53.75,53.54,53.06,53.37,52.25,53.83,53.35,53.29,53.71,54.74,54.42,54.45,54.49,53.51,53.07,54.15,53.86,54.71,56.1,58.28,58.5,59.62,58.53,57.04,57.7,58.07,58.55,58.78,60.37,61.35,61.37,59.01,64.55,62.41,63.04,61.16,60.75,61.06,61.57,62.08,61.94,60.68,62.73,62.96,63.31,63.8,63.3,65.58,66.7,65.45,69.69,70.02,69.69,69.93,69.75,70.03,68.27,70.4,71.4,69.36,73.71,74.95,74.99,73.99,74.26,75.61,77.97,77.5,76.38,75.04,71.67,72.25,71.99,71.44,71.51,74.56,75.21,76.15,75.89,76.7,73.95,72.85,74.0,74.95,74.81,74.82,71.89,70.19,70.66,67.4,70.62,69.46,68.34,68.7,67.59,68.7,67.06,66.6,67.88,68.93,69.65,70.9,69.07,68.4,69.91,68.17,67.02,67.5,64.83,62.84,61.49,61.27,60.1,59.6,57.51,58.18,59.5,56.97,56.15,55.7,43.3,42.1,39.8,42.23,40.86,45.39,48.09,45.23,43.07,43.4,42.13,42.49,43.1,42.43,41.49,41.91,41.02,39.85,40.21,38.02,38.24,36.51,40.1,40.5,38.7,36.65,36.5,35.65,34.45,36.16,35.72,34.38,34.26,35.74,36.6,37.26,37.81,36.83,37.8,36.41,36.51,35.55,36.24,37.2,36.7,34.6,36.29,35.48,34.6,34.37,33.47,32.86,32.15,32.95,31.85,31.28,27.4,20.75,20.75,20.5,19.7,18.69,19.69,18.93,20.08,19.9,20.09,18.76,18.48,17.94,18.18,17.09,18.05,18.95,18.94,17.69,18.19,17.92,17.35,18.1,18.16,18.44,18.49,18.77,18.45,19.61,19.06,18.8,19.34,19.79,18.9,18.14,17.39,17.09,18.03,18.02,17.66,17.7,18.65,18.9,19.95,19.77,18.93,18.44,18.24,19.14,18.64,19.93,20.07,20.32,19.64,19.02,19.03,19.21,18.85,20.5,20.58,23.03,23.5,24.55,24.28,23.42,22.66,23.77,23.25,23.31,23.31,23.31,23.91,24.1,23.41,24.32,23.43,24.65,25.22,25.47,25.15,24.72,25.29,25.15,23.33,22.85,23.52,23.82,22.81,22.64,22.5,23.34,24.2,23.63,23.45,23.05,23.8,24.01,24.03,22.75,23.35,24.74,25.17,25.06,25.11,24.53,24.38,23.75,24.03,24.21,26.2,25.87,25.38,24.82,24.95,24.66,24.95,23.57,23.94,22.62,24.53,24.4,25.97,28.91,28.55,28.07,29.93,29.83,30.66,32.2,31.57,31.29,30.04,29.21,27.46,26.22,26.65,27.2,26.49,29.54,30.79,31.88,32.71,31.8,30.83,29.91,31.2,31.85,31.45,30.62,30.2,29.62,31.71,32.99,33.6,32.4,32.38,32.04,32.09,33.46,33.63,34.5,33.74,30.81,30.78,30.34,30.08,30.78,30.78,30.34,29.9,30.6,29.01,31.11,30.51,32.32,33.75,33.14,33.04,33.3,34.38],\"yaxis\":\"y\",\"type\":\"bar\"}],                        {\"template\":{\"data\":{\"histogram2dcontour\":[{\"type\":\"histogram2dcontour\",\"colorbar\":{\"outlinewidth\":0,\"ticks\":\"\"},\"colorscale\":[[0.0,\"#0d0887\"],[0.1111111111111111,\"#46039f\"],[0.2222222222222222,\"#7201a8\"],[0.3333333333333333,\"#9c179e\"],[0.4444444444444444,\"#bd3786\"],[0.5555555555555556,\"#d8576b\"],[0.6666666666666666,\"#ed7953\"],[0.7777777777777778,\"#fb9f3a\"],[0.8888888888888888,\"#fdca26\"],[1.0,\"#f0f921\"]]}],\"choropleth\":[{\"type\":\"choropleth\",\"colorbar\":{\"outlinewidth\":0,\"ticks\":\"\"}}],\"histogram2d\":[{\"type\":\"histogram2d\",\"colorbar\":{\"outlinewidth\":0,\"ticks\":\"\"},\"colorscale\":[[0.0,\"#0d0887\"],[0.1111111111111111,\"#46039f\"],[0.2222222222222222,\"#7201a8\"],[0.3333333333333333,\"#9c179e\"],[0.4444444444444444,\"#bd3786\"],[0.5555555555555556,\"#d8576b\"],[0.6666666666666666,\"#ed7953\"],[0.7777777777777778,\"#fb9f3a\"],[0.8888888888888888,\"#fdca26\"],[1.0,\"#f0f921\"]]}],\"heatmap\":[{\"type\":\"heatmap\",\"colorbar\":{\"outlinewidth\":0,\"ticks\":\"\"},\"colorscale\":[[0.0,\"#0d0887\"],[0.1111111111111111,\"#46039f\"],[0.2222222222222222,\"#7201a8\"],[0.3333333333333333,\"#9c179e\"],[0.4444444444444444,\"#bd3786\"],[0.5555555555555556,\"#d8576b\"],[0.6666666666666666,\"#ed7953\"],[0.7777777777777778,\"#fb9f3a\"],[0.8888888888888888,\"#fdca26\"],[1.0,\"#f0f921\"]]}],\"heatmapgl\":[{\"type\":\"heatmapgl\",\"colorbar\":{\"outlinewidth\":0,\"ticks\":\"\"},\"colorscale\":[[0.0,\"#0d0887\"],[0.1111111111111111,\"#46039f\"],[0.2222222222222222,\"#7201a8\"],[0.3333333333333333,\"#9c179e\"],[0.4444444444444444,\"#bd3786\"],[0.5555555555555556,\"#d8576b\"],[0.6666666666666666,\"#ed7953\"],[0.7777777777777778,\"#fb9f3a\"],[0.8888888888888888,\"#fdca26\"],[1.0,\"#f0f921\"]]}],\"contourcarpet\":[{\"type\":\"contourcarpet\",\"colorbar\":{\"outlinewidth\":0,\"ticks\":\"\"}}],\"contour\":[{\"type\":\"contour\",\"colorbar\":{\"outlinewidth\":0,\"ticks\":\"\"},\"colorscale\":[[0.0,\"#0d0887\"],[0.1111111111111111,\"#46039f\"],[0.2222222222222222,\"#7201a8\"],[0.3333333333333333,\"#9c179e\"],[0.4444444444444444,\"#bd3786\"],[0.5555555555555556,\"#d8576b\"],[0.6666666666666666,\"#ed7953\"],[0.7777777777777778,\"#fb9f3a\"],[0.8888888888888888,\"#fdca26\"],[1.0,\"#f0f921\"]]}],\"surface\":[{\"type\":\"surface\",\"colorbar\":{\"outlinewidth\":0,\"ticks\":\"\"},\"colorscale\":[[0.0,\"#0d0887\"],[0.1111111111111111,\"#46039f\"],[0.2222222222222222,\"#7201a8\"],[0.3333333333333333,\"#9c179e\"],[0.4444444444444444,\"#bd3786\"],[0.5555555555555556,\"#d8576b\"],[0.6666666666666666,\"#ed7953\"],[0.7777777777777778,\"#fb9f3a\"],[0.8888888888888888,\"#fdca26\"],[1.0,\"#f0f921\"]]}],\"mesh3d\":[{\"type\":\"mesh3d\",\"colorbar\":{\"outlinewidth\":0,\"ticks\":\"\"}}],\"scatter\":[{\"marker\":{\"line\":{\"color\":\"#283442\"}},\"type\":\"scatter\"}],\"parcoords\":[{\"type\":\"parcoords\",\"line\":{\"colorbar\":{\"outlinewidth\":0,\"ticks\":\"\"}}}],\"scatterpolargl\":[{\"type\":\"scatterpolargl\",\"marker\":{\"colorbar\":{\"outlinewidth\":0,\"ticks\":\"\"}}}],\"bar\":[{\"error_x\":{\"color\":\"#f2f5fa\"},\"error_y\":{\"color\":\"#f2f5fa\"},\"marker\":{\"line\":{\"color\":\"rgb(17,17,17)\",\"width\":0.5},\"pattern\":{\"fillmode\":\"overlay\",\"size\":10,\"solidity\":0.2}},\"type\":\"bar\"}],\"scattergeo\":[{\"type\":\"scattergeo\",\"marker\":{\"colorbar\":{\"outlinewidth\":0,\"ticks\":\"\"}}}],\"scatterpolar\":[{\"type\":\"scatterpolar\",\"marker\":{\"colorbar\":{\"outlinewidth\":0,\"ticks\":\"\"}}}],\"histogram\":[{\"marker\":{\"pattern\":{\"fillmode\":\"overlay\",\"size\":10,\"solidity\":0.2}},\"type\":\"histogram\"}],\"scattergl\":[{\"marker\":{\"line\":{\"color\":\"#283442\"}},\"type\":\"scattergl\"}],\"scatter3d\":[{\"type\":\"scatter3d\",\"line\":{\"colorbar\":{\"outlinewidth\":0,\"ticks\":\"\"}},\"marker\":{\"colorbar\":{\"outlinewidth\":0,\"ticks\":\"\"}}}],\"scattermapbox\":[{\"type\":\"scattermapbox\",\"marker\":{\"colorbar\":{\"outlinewidth\":0,\"ticks\":\"\"}}}],\"scatterternary\":[{\"type\":\"scatterternary\",\"marker\":{\"colorbar\":{\"outlinewidth\":0,\"ticks\":\"\"}}}],\"scattercarpet\":[{\"type\":\"scattercarpet\",\"marker\":{\"colorbar\":{\"outlinewidth\":0,\"ticks\":\"\"}}}],\"carpet\":[{\"aaxis\":{\"endlinecolor\":\"#A2B1C6\",\"gridcolor\":\"#506784\",\"linecolor\":\"#506784\",\"minorgridcolor\":\"#506784\",\"startlinecolor\":\"#A2B1C6\"},\"baxis\":{\"endlinecolor\":\"#A2B1C6\",\"gridcolor\":\"#506784\",\"linecolor\":\"#506784\",\"minorgridcolor\":\"#506784\",\"startlinecolor\":\"#A2B1C6\"},\"type\":\"carpet\"}],\"table\":[{\"cells\":{\"fill\":{\"color\":\"#506784\"},\"line\":{\"color\":\"rgb(17,17,17)\"}},\"header\":{\"fill\":{\"color\":\"#2a3f5f\"},\"line\":{\"color\":\"rgb(17,17,17)\"}},\"type\":\"table\"}],\"barpolar\":[{\"marker\":{\"line\":{\"color\":\"rgb(17,17,17)\",\"width\":0.5},\"pattern\":{\"fillmode\":\"overlay\",\"size\":10,\"solidity\":0.2}},\"type\":\"barpolar\"}],\"pie\":[{\"automargin\":true,\"type\":\"pie\"}]},\"layout\":{\"autotypenumbers\":\"strict\",\"colorway\":[\"#636efa\",\"#EF553B\",\"#00cc96\",\"#ab63fa\",\"#FFA15A\",\"#19d3f3\",\"#FF6692\",\"#B6E880\",\"#FF97FF\",\"#FECB52\"],\"font\":{\"color\":\"#f2f5fa\"},\"hovermode\":\"closest\",\"hoverlabel\":{\"align\":\"left\"},\"paper_bgcolor\":\"rgb(17,17,17)\",\"plot_bgcolor\":\"rgb(17,17,17)\",\"polar\":{\"bgcolor\":\"rgb(17,17,17)\",\"angularaxis\":{\"gridcolor\":\"#506784\",\"linecolor\":\"#506784\",\"ticks\":\"\"},\"radialaxis\":{\"gridcolor\":\"#506784\",\"linecolor\":\"#506784\",\"ticks\":\"\"}},\"ternary\":{\"bgcolor\":\"rgb(17,17,17)\",\"aaxis\":{\"gridcolor\":\"#506784\",\"linecolor\":\"#506784\",\"ticks\":\"\"},\"baxis\":{\"gridcolor\":\"#506784\",\"linecolor\":\"#506784\",\"ticks\":\"\"},\"caxis\":{\"gridcolor\":\"#506784\",\"linecolor\":\"#506784\",\"ticks\":\"\"}},\"coloraxis\":{\"colorbar\":{\"outlinewidth\":0,\"ticks\":\"\"}},\"colorscale\":{\"sequential\":[[0.0,\"#0d0887\"],[0.1111111111111111,\"#46039f\"],[0.2222222222222222,\"#7201a8\"],[0.3333333333333333,\"#9c179e\"],[0.4444444444444444,\"#bd3786\"],[0.5555555555555556,\"#d8576b\"],[0.6666666666666666,\"#ed7953\"],[0.7777777777777778,\"#fb9f3a\"],[0.8888888888888888,\"#fdca26\"],[1.0,\"#f0f921\"]],\"sequentialminus\":[[0.0,\"#0d0887\"],[0.1111111111111111,\"#46039f\"],[0.2222222222222222,\"#7201a8\"],[0.3333333333333333,\"#9c179e\"],[0.4444444444444444,\"#bd3786\"],[0.5555555555555556,\"#d8576b\"],[0.6666666666666666,\"#ed7953\"],[0.7777777777777778,\"#fb9f3a\"],[0.8888888888888888,\"#fdca26\"],[1.0,\"#f0f921\"]],\"diverging\":[[0,\"#8e0152\"],[0.1,\"#c51b7d\"],[0.2,\"#de77ae\"],[0.3,\"#f1b6da\"],[0.4,\"#fde0ef\"],[0.5,\"#f7f7f7\"],[0.6,\"#e6f5d0\"],[0.7,\"#b8e186\"],[0.8,\"#7fbc41\"],[0.9,\"#4d9221\"],[1,\"#276419\"]]},\"xaxis\":{\"gridcolor\":\"#283442\",\"linecolor\":\"#506784\",\"ticks\":\"\",\"title\":{\"standoff\":15},\"zerolinecolor\":\"#283442\",\"automargin\":true,\"zerolinewidth\":2},\"yaxis\":{\"gridcolor\":\"#283442\",\"linecolor\":\"#506784\",\"ticks\":\"\",\"title\":{\"standoff\":15},\"zerolinecolor\":\"#283442\",\"automargin\":true,\"zerolinewidth\":2},\"scene\":{\"xaxis\":{\"backgroundcolor\":\"rgb(17,17,17)\",\"gridcolor\":\"#506784\",\"linecolor\":\"#506784\",\"showbackground\":true,\"ticks\":\"\",\"zerolinecolor\":\"#C8D4E3\",\"gridwidth\":2},\"yaxis\":{\"backgroundcolor\":\"rgb(17,17,17)\",\"gridcolor\":\"#506784\",\"linecolor\":\"#506784\",\"showbackground\":true,\"ticks\":\"\",\"zerolinecolor\":\"#C8D4E3\",\"gridwidth\":2},\"zaxis\":{\"backgroundcolor\":\"rgb(17,17,17)\",\"gridcolor\":\"#506784\",\"linecolor\":\"#506784\",\"showbackground\":true,\"ticks\":\"\",\"zerolinecolor\":\"#C8D4E3\",\"gridwidth\":2}},\"shapedefaults\":{\"line\":{\"color\":\"#f2f5fa\"}},\"annotationdefaults\":{\"arrowcolor\":\"#f2f5fa\",\"arrowhead\":0,\"arrowwidth\":1},\"geo\":{\"bgcolor\":\"rgb(17,17,17)\",\"landcolor\":\"rgb(17,17,17)\",\"subunitcolor\":\"#506784\",\"showland\":true,\"showlakes\":true,\"lakecolor\":\"rgb(17,17,17)\"},\"title\":{\"x\":0.05},\"updatemenudefaults\":{\"bgcolor\":\"#506784\",\"borderwidth\":0},\"sliderdefaults\":{\"bgcolor\":\"#C8D4E3\",\"borderwidth\":1,\"bordercolor\":\"rgb(17,17,17)\",\"tickwidth\":0},\"mapbox\":{\"style\":\"dark\"}}},\"xaxis\":{\"anchor\":\"y\",\"domain\":[0.0,1.0],\"title\":{\"text\":\"Data\"},\"showgrid\":false,\"linecolor\":\"white\"},\"yaxis\":{\"anchor\":\"x\",\"domain\":[0.0,1.0],\"title\":{\"text\":\"Pre\\u00e7o (R$)\"},\"showgrid\":false,\"linecolor\":\"white\"},\"legend\":{\"tracegroupgap\":0},\"title\":{\"text\":\"Pre\\u00e7o da NFLX34 nos ultimos 5 anos:\"},\"barmode\":\"relative\",\"font\":{\"family\":\"Normal\",\"size\":15}},                        {\"responsive\": true}                    ).then(function(){\n",
              "                            \n",
              "var gd = document.getElementById('8f695a83-8189-4674-8dcc-678bbdff3a58');\n",
              "var x = new MutationObserver(function (mutations, observer) {{\n",
              "        var display = window.getComputedStyle(gd).display;\n",
              "        if (!display || display === 'none') {{\n",
              "            console.log([gd, 'removed!']);\n",
              "            Plotly.purge(gd);\n",
              "            observer.disconnect();\n",
              "        }}\n",
              "}});\n",
              "\n",
              "// Listen for the removal of the full notebook cells\n",
              "var notebookContainer = gd.closest('#notebook-container');\n",
              "if (notebookContainer) {{\n",
              "    x.observe(notebookContainer, {childList: true});\n",
              "}}\n",
              "\n",
              "// Listen for the clearing of the current output cell\n",
              "var outputEl = gd.closest('.output');\n",
              "if (outputEl) {{\n",
              "    x.observe(outputEl, {childList: true});\n",
              "}}\n",
              "\n",
              "                        })                };                            </script>        </div>\n",
              "</body>\n",
              "</html>"
            ]
          },
          "metadata": {}
        }
      ],
      "source": [
        "# Manipulando as listas com os preços das ações e com as datas:\n",
        "preco = []\n",
        "data = []\n",
        "for i in dfm:\n",
        "  i[1] = i[1].replace(',','.') # Trocando a vírgula por ponto.\n",
        "  i[1] = float(i[1])\n",
        "  preco.append(i[1])\n",
        "  data.append(i[0])\n",
        "\n",
        "# Plotando o gráfico de barras:\n",
        "figm = px.bar(x= data, y= preco, labels= {\n",
        "    'x': 'Data',\n",
        "    'y': 'Preço (R$)',\n",
        "}, title= 'Preço da NFLX34 nos ultimos 5 anos:', template='plotly_dark', color_discrete_sequence=['#e50914'])\n",
        "figm.update_xaxes(showgrid= False, linecolor= 'white')\n",
        "figm.update_yaxes(showgrid= False, linecolor= 'white')\n",
        "figm.update_layout(font={'family':'Normal', 'size': 15})\n"
      ]
    },
    {
      "cell_type": "markdown",
      "metadata": {
        "id": "VM64BP3RyYXv"
      },
      "source": [
        "## Categorias mais adicionadas desde 2021"
      ]
    },
    {
      "cell_type": "markdown",
      "metadata": {
        "id": "Xb75efpgq_CP"
      },
      "source": [
        "####O gráfico em questão tem como objetivo fazer uma análise dos gêneros de séries mais produzidas em um cenário pós pandêmico, buscando a compreensão dos genêros mais populares neste período."
      ]
    },
    {
      "cell_type": "code",
      "execution_count": null,
      "metadata": {
        "id": "yKjmVutE8dJc"
      },
      "outputs": [],
      "source": [
        "def sortKeyNamesAndFrequencies(x):\n",
        "  return x[1]\n",
        "\n",
        "def remove_repetidos(x):#simplificação da matriz\n",
        "    l = []\n",
        "    generos = []\n",
        "    for i in x:\n",
        "        generos.append(i[1])\n",
        "        if i[1] not in l and '-' not in i[1] and '/' not in i[1] and ' ' not in i[1]:\n",
        "            l.append(i[1])\n",
        "    l.sort()\n",
        "    return l, generos\n",
        "\n",
        "listac, generos = remove_repetidos(df2)\n",
        "listac.append('Anime')\n",
        "\n",
        "quantidade = []\n",
        "conta = 0\n",
        "for i in listac:\n",
        "    contador = 0\n",
        "    for filme in generos:\n",
        "        if i[:5] == filme[:5]:\n",
        "            contador+=1\n",
        "    quantidade.append([i])\n",
        "    quantidade[conta].append(contador)\n",
        "    conta += 1\n",
        "quantidade.sort(key = sortKeyNamesAndFrequencies, reverse = True)\n",
        "genders1 = []\n",
        "FrequencyAxis1 = []\n",
        "for i in range(len(quantidade)):\n",
        "  genders1.append(quantidade[i][0])\n",
        "  FrequencyAxis1.append(quantidade[i][1])"
      ]
    },
    {
      "cell_type": "code",
      "execution_count": null,
      "metadata": {
        "colab": {
          "base_uri": "https://localhost:8080/",
          "height": 542
        },
        "id": "zo8nLmDPRr1i",
        "outputId": "44ca9ccd-e37e-4799-8844-f26b7949a27d"
      },
      "outputs": [
        {
          "output_type": "display_data",
          "data": {
            "text/html": [
              "<html>\n",
              "<head><meta charset=\"utf-8\" /></head>\n",
              "<body>\n",
              "    <div>            <script src=\"https://cdnjs.cloudflare.com/ajax/libs/mathjax/2.7.5/MathJax.js?config=TeX-AMS-MML_SVG\"></script><script type=\"text/javascript\">if (window.MathJax && window.MathJax.Hub && window.MathJax.Hub.Config) {window.MathJax.Hub.Config({SVG: {font: \"STIX-Web\"}});}</script>                <script type=\"text/javascript\">window.PlotlyConfig = {MathJaxConfig: 'local'};</script>\n",
              "        <script charset=\"utf-8\" src=\"https://cdn.plot.ly/plotly-2.24.1.min.js\"></script>                <div id=\"b3832c85-4341-473f-b65c-b3fb602a6ac5\" class=\"plotly-graph-div\" style=\"height:525px; width:100%;\"></div>            <script type=\"text/javascript\">                                    window.PLOTLYENV=window.PLOTLYENV || {};                                    if (document.getElementById(\"b3832c85-4341-473f-b65c-b3fb602a6ac5\")) {                    Plotly.newPlot(                        \"b3832c85-4341-473f-b65c-b3fb602a6ac5\",                        [{\"alignmentgroup\":\"True\",\"hovertemplate\":\"Quantidade de Filmes=%{x}\\u003cbr\\u003eG\\u00eaneros=%{y}\\u003cextra\\u003e\\u003c\\u002fextra\\u003e\",\"legendgroup\":\"\",\"marker\":{\"color\":\"#e50914\",\"pattern\":{\"shape\":\"\"}},\"name\":\"\",\"offsetgroup\":\"\",\"orientation\":\"h\",\"showlegend\":false,\"textposition\":\"auto\",\"x\":[159,80,69,56,33,19,17,17,9,6,6,5,4,4,3,2,2,2,2,2,1],\"xaxis\":\"x\",\"y\":[\"Documentary\",\"Drama\",\"Comedy\",\"Romance\",\"Thriller\",\"Action\",\"Animation\",\"Horror\",\"Biopic\",\"Family\",\"Musical\",\"Superhero\",\"Adventure\",\"Anime\",\"Western\",\"Heist\",\"Mockumentary\",\"Mystery\",\"Satire\",\"War\",\"Fantasy\"],\"yaxis\":\"y\",\"type\":\"bar\"}],                        {\"template\":{\"data\":{\"histogram2dcontour\":[{\"type\":\"histogram2dcontour\",\"colorbar\":{\"outlinewidth\":0,\"ticks\":\"\"},\"colorscale\":[[0.0,\"#0d0887\"],[0.1111111111111111,\"#46039f\"],[0.2222222222222222,\"#7201a8\"],[0.3333333333333333,\"#9c179e\"],[0.4444444444444444,\"#bd3786\"],[0.5555555555555556,\"#d8576b\"],[0.6666666666666666,\"#ed7953\"],[0.7777777777777778,\"#fb9f3a\"],[0.8888888888888888,\"#fdca26\"],[1.0,\"#f0f921\"]]}],\"choropleth\":[{\"type\":\"choropleth\",\"colorbar\":{\"outlinewidth\":0,\"ticks\":\"\"}}],\"histogram2d\":[{\"type\":\"histogram2d\",\"colorbar\":{\"outlinewidth\":0,\"ticks\":\"\"},\"colorscale\":[[0.0,\"#0d0887\"],[0.1111111111111111,\"#46039f\"],[0.2222222222222222,\"#7201a8\"],[0.3333333333333333,\"#9c179e\"],[0.4444444444444444,\"#bd3786\"],[0.5555555555555556,\"#d8576b\"],[0.6666666666666666,\"#ed7953\"],[0.7777777777777778,\"#fb9f3a\"],[0.8888888888888888,\"#fdca26\"],[1.0,\"#f0f921\"]]}],\"heatmap\":[{\"type\":\"heatmap\",\"colorbar\":{\"outlinewidth\":0,\"ticks\":\"\"},\"colorscale\":[[0.0,\"#0d0887\"],[0.1111111111111111,\"#46039f\"],[0.2222222222222222,\"#7201a8\"],[0.3333333333333333,\"#9c179e\"],[0.4444444444444444,\"#bd3786\"],[0.5555555555555556,\"#d8576b\"],[0.6666666666666666,\"#ed7953\"],[0.7777777777777778,\"#fb9f3a\"],[0.8888888888888888,\"#fdca26\"],[1.0,\"#f0f921\"]]}],\"heatmapgl\":[{\"type\":\"heatmapgl\",\"colorbar\":{\"outlinewidth\":0,\"ticks\":\"\"},\"colorscale\":[[0.0,\"#0d0887\"],[0.1111111111111111,\"#46039f\"],[0.2222222222222222,\"#7201a8\"],[0.3333333333333333,\"#9c179e\"],[0.4444444444444444,\"#bd3786\"],[0.5555555555555556,\"#d8576b\"],[0.6666666666666666,\"#ed7953\"],[0.7777777777777778,\"#fb9f3a\"],[0.8888888888888888,\"#fdca26\"],[1.0,\"#f0f921\"]]}],\"contourcarpet\":[{\"type\":\"contourcarpet\",\"colorbar\":{\"outlinewidth\":0,\"ticks\":\"\"}}],\"contour\":[{\"type\":\"contour\",\"colorbar\":{\"outlinewidth\":0,\"ticks\":\"\"},\"colorscale\":[[0.0,\"#0d0887\"],[0.1111111111111111,\"#46039f\"],[0.2222222222222222,\"#7201a8\"],[0.3333333333333333,\"#9c179e\"],[0.4444444444444444,\"#bd3786\"],[0.5555555555555556,\"#d8576b\"],[0.6666666666666666,\"#ed7953\"],[0.7777777777777778,\"#fb9f3a\"],[0.8888888888888888,\"#fdca26\"],[1.0,\"#f0f921\"]]}],\"surface\":[{\"type\":\"surface\",\"colorbar\":{\"outlinewidth\":0,\"ticks\":\"\"},\"colorscale\":[[0.0,\"#0d0887\"],[0.1111111111111111,\"#46039f\"],[0.2222222222222222,\"#7201a8\"],[0.3333333333333333,\"#9c179e\"],[0.4444444444444444,\"#bd3786\"],[0.5555555555555556,\"#d8576b\"],[0.6666666666666666,\"#ed7953\"],[0.7777777777777778,\"#fb9f3a\"],[0.8888888888888888,\"#fdca26\"],[1.0,\"#f0f921\"]]}],\"mesh3d\":[{\"type\":\"mesh3d\",\"colorbar\":{\"outlinewidth\":0,\"ticks\":\"\"}}],\"scatter\":[{\"marker\":{\"line\":{\"color\":\"#283442\"}},\"type\":\"scatter\"}],\"parcoords\":[{\"type\":\"parcoords\",\"line\":{\"colorbar\":{\"outlinewidth\":0,\"ticks\":\"\"}}}],\"scatterpolargl\":[{\"type\":\"scatterpolargl\",\"marker\":{\"colorbar\":{\"outlinewidth\":0,\"ticks\":\"\"}}}],\"bar\":[{\"error_x\":{\"color\":\"#f2f5fa\"},\"error_y\":{\"color\":\"#f2f5fa\"},\"marker\":{\"line\":{\"color\":\"rgb(17,17,17)\",\"width\":0.5},\"pattern\":{\"fillmode\":\"overlay\",\"size\":10,\"solidity\":0.2}},\"type\":\"bar\"}],\"scattergeo\":[{\"type\":\"scattergeo\",\"marker\":{\"colorbar\":{\"outlinewidth\":0,\"ticks\":\"\"}}}],\"scatterpolar\":[{\"type\":\"scatterpolar\",\"marker\":{\"colorbar\":{\"outlinewidth\":0,\"ticks\":\"\"}}}],\"histogram\":[{\"marker\":{\"pattern\":{\"fillmode\":\"overlay\",\"size\":10,\"solidity\":0.2}},\"type\":\"histogram\"}],\"scattergl\":[{\"marker\":{\"line\":{\"color\":\"#283442\"}},\"type\":\"scattergl\"}],\"scatter3d\":[{\"type\":\"scatter3d\",\"line\":{\"colorbar\":{\"outlinewidth\":0,\"ticks\":\"\"}},\"marker\":{\"colorbar\":{\"outlinewidth\":0,\"ticks\":\"\"}}}],\"scattermapbox\":[{\"type\":\"scattermapbox\",\"marker\":{\"colorbar\":{\"outlinewidth\":0,\"ticks\":\"\"}}}],\"scatterternary\":[{\"type\":\"scatterternary\",\"marker\":{\"colorbar\":{\"outlinewidth\":0,\"ticks\":\"\"}}}],\"scattercarpet\":[{\"type\":\"scattercarpet\",\"marker\":{\"colorbar\":{\"outlinewidth\":0,\"ticks\":\"\"}}}],\"carpet\":[{\"aaxis\":{\"endlinecolor\":\"#A2B1C6\",\"gridcolor\":\"#506784\",\"linecolor\":\"#506784\",\"minorgridcolor\":\"#506784\",\"startlinecolor\":\"#A2B1C6\"},\"baxis\":{\"endlinecolor\":\"#A2B1C6\",\"gridcolor\":\"#506784\",\"linecolor\":\"#506784\",\"minorgridcolor\":\"#506784\",\"startlinecolor\":\"#A2B1C6\"},\"type\":\"carpet\"}],\"table\":[{\"cells\":{\"fill\":{\"color\":\"#506784\"},\"line\":{\"color\":\"rgb(17,17,17)\"}},\"header\":{\"fill\":{\"color\":\"#2a3f5f\"},\"line\":{\"color\":\"rgb(17,17,17)\"}},\"type\":\"table\"}],\"barpolar\":[{\"marker\":{\"line\":{\"color\":\"rgb(17,17,17)\",\"width\":0.5},\"pattern\":{\"fillmode\":\"overlay\",\"size\":10,\"solidity\":0.2}},\"type\":\"barpolar\"}],\"pie\":[{\"automargin\":true,\"type\":\"pie\"}]},\"layout\":{\"autotypenumbers\":\"strict\",\"colorway\":[\"#636efa\",\"#EF553B\",\"#00cc96\",\"#ab63fa\",\"#FFA15A\",\"#19d3f3\",\"#FF6692\",\"#B6E880\",\"#FF97FF\",\"#FECB52\"],\"font\":{\"color\":\"#f2f5fa\"},\"hovermode\":\"closest\",\"hoverlabel\":{\"align\":\"left\"},\"paper_bgcolor\":\"rgb(17,17,17)\",\"plot_bgcolor\":\"rgb(17,17,17)\",\"polar\":{\"bgcolor\":\"rgb(17,17,17)\",\"angularaxis\":{\"gridcolor\":\"#506784\",\"linecolor\":\"#506784\",\"ticks\":\"\"},\"radialaxis\":{\"gridcolor\":\"#506784\",\"linecolor\":\"#506784\",\"ticks\":\"\"}},\"ternary\":{\"bgcolor\":\"rgb(17,17,17)\",\"aaxis\":{\"gridcolor\":\"#506784\",\"linecolor\":\"#506784\",\"ticks\":\"\"},\"baxis\":{\"gridcolor\":\"#506784\",\"linecolor\":\"#506784\",\"ticks\":\"\"},\"caxis\":{\"gridcolor\":\"#506784\",\"linecolor\":\"#506784\",\"ticks\":\"\"}},\"coloraxis\":{\"colorbar\":{\"outlinewidth\":0,\"ticks\":\"\"}},\"colorscale\":{\"sequential\":[[0.0,\"#0d0887\"],[0.1111111111111111,\"#46039f\"],[0.2222222222222222,\"#7201a8\"],[0.3333333333333333,\"#9c179e\"],[0.4444444444444444,\"#bd3786\"],[0.5555555555555556,\"#d8576b\"],[0.6666666666666666,\"#ed7953\"],[0.7777777777777778,\"#fb9f3a\"],[0.8888888888888888,\"#fdca26\"],[1.0,\"#f0f921\"]],\"sequentialminus\":[[0.0,\"#0d0887\"],[0.1111111111111111,\"#46039f\"],[0.2222222222222222,\"#7201a8\"],[0.3333333333333333,\"#9c179e\"],[0.4444444444444444,\"#bd3786\"],[0.5555555555555556,\"#d8576b\"],[0.6666666666666666,\"#ed7953\"],[0.7777777777777778,\"#fb9f3a\"],[0.8888888888888888,\"#fdca26\"],[1.0,\"#f0f921\"]],\"diverging\":[[0,\"#8e0152\"],[0.1,\"#c51b7d\"],[0.2,\"#de77ae\"],[0.3,\"#f1b6da\"],[0.4,\"#fde0ef\"],[0.5,\"#f7f7f7\"],[0.6,\"#e6f5d0\"],[0.7,\"#b8e186\"],[0.8,\"#7fbc41\"],[0.9,\"#4d9221\"],[1,\"#276419\"]]},\"xaxis\":{\"gridcolor\":\"#283442\",\"linecolor\":\"#506784\",\"ticks\":\"\",\"title\":{\"standoff\":15},\"zerolinecolor\":\"#283442\",\"automargin\":true,\"zerolinewidth\":2},\"yaxis\":{\"gridcolor\":\"#283442\",\"linecolor\":\"#506784\",\"ticks\":\"\",\"title\":{\"standoff\":15},\"zerolinecolor\":\"#283442\",\"automargin\":true,\"zerolinewidth\":2},\"scene\":{\"xaxis\":{\"backgroundcolor\":\"rgb(17,17,17)\",\"gridcolor\":\"#506784\",\"linecolor\":\"#506784\",\"showbackground\":true,\"ticks\":\"\",\"zerolinecolor\":\"#C8D4E3\",\"gridwidth\":2},\"yaxis\":{\"backgroundcolor\":\"rgb(17,17,17)\",\"gridcolor\":\"#506784\",\"linecolor\":\"#506784\",\"showbackground\":true,\"ticks\":\"\",\"zerolinecolor\":\"#C8D4E3\",\"gridwidth\":2},\"zaxis\":{\"backgroundcolor\":\"rgb(17,17,17)\",\"gridcolor\":\"#506784\",\"linecolor\":\"#506784\",\"showbackground\":true,\"ticks\":\"\",\"zerolinecolor\":\"#C8D4E3\",\"gridwidth\":2}},\"shapedefaults\":{\"line\":{\"color\":\"#f2f5fa\"}},\"annotationdefaults\":{\"arrowcolor\":\"#f2f5fa\",\"arrowhead\":0,\"arrowwidth\":1},\"geo\":{\"bgcolor\":\"rgb(17,17,17)\",\"landcolor\":\"rgb(17,17,17)\",\"subunitcolor\":\"#506784\",\"showland\":true,\"showlakes\":true,\"lakecolor\":\"rgb(17,17,17)\"},\"title\":{\"x\":0.05},\"updatemenudefaults\":{\"bgcolor\":\"#506784\",\"borderwidth\":0},\"sliderdefaults\":{\"bgcolor\":\"#C8D4E3\",\"borderwidth\":1,\"bordercolor\":\"rgb(17,17,17)\",\"tickwidth\":0},\"mapbox\":{\"style\":\"dark\"}}},\"xaxis\":{\"anchor\":\"y\",\"domain\":[0.0,1.0],\"title\":{\"text\":\"Quantidade de Filmes\"},\"showgrid\":false,\"linecolor\":\"white\"},\"yaxis\":{\"anchor\":\"x\",\"domain\":[0.0,1.0],\"title\":{\"text\":\"G\\u00eaneros\"},\"showgrid\":false,\"linecolor\":\"white\"},\"legend\":{\"tracegroupgap\":0},\"title\":{\"text\":\"Categorias mais adicionadas desde 2021:\"},\"barmode\":\"relative\",\"font\":{\"family\":\"Normal\",\"size\":15}},                        {\"responsive\": true}                    ).then(function(){\n",
              "                            \n",
              "var gd = document.getElementById('b3832c85-4341-473f-b65c-b3fb602a6ac5');\n",
              "var x = new MutationObserver(function (mutations, observer) {{\n",
              "        var display = window.getComputedStyle(gd).display;\n",
              "        if (!display || display === 'none') {{\n",
              "            console.log([gd, 'removed!']);\n",
              "            Plotly.purge(gd);\n",
              "            observer.disconnect();\n",
              "        }}\n",
              "}});\n",
              "\n",
              "// Listen for the removal of the full notebook cells\n",
              "var notebookContainer = gd.closest('#notebook-container');\n",
              "if (notebookContainer) {{\n",
              "    x.observe(notebookContainer, {childList: true});\n",
              "}}\n",
              "\n",
              "// Listen for the clearing of the current output cell\n",
              "var outputEl = gd.closest('.output');\n",
              "if (outputEl) {{\n",
              "    x.observe(outputEl, {childList: true});\n",
              "}}\n",
              "\n",
              "                        })                };                            </script>        </div>\n",
              "</body>\n",
              "</html>"
            ]
          },
          "metadata": {}
        }
      ],
      "source": [
        "graphic_gender = px.bar(y= genders1, x= FrequencyAxis1, labels= {\n",
        "    'y': 'Gêneros',\n",
        "    'x': 'Quantidade de Filmes',\n",
        "}, title= 'Categorias mais adicionadas desde 2021:', template='plotly_dark', color_discrete_sequence=['#e50914'])\n",
        "graphic_gender.update_xaxes(showgrid= False, linecolor= 'white')\n",
        "graphic_gender.update_yaxes(showgrid= False, linecolor= 'white')\n",
        "graphic_gender.update_layout(font={'family':'Normal', 'size': 15})"
      ]
    },
    {
      "cell_type": "markdown",
      "metadata": {
        "id": "yft6lbq7kM7c"
      },
      "source": [
        "##Dashboard:"
      ]
    },
    {
      "cell_type": "code",
      "execution_count": null,
      "metadata": {
        "colab": {
          "base_uri": "https://localhost:8080/",
          "height": 793
        },
        "id": "AhVr1WtEkRiu",
        "outputId": "d8c47cc6-4981-4311-f380-f72304fcd434"
      },
      "outputs": [
        {
          "output_type": "stream",
          "name": "stderr",
          "text": [
            "/usr/local/lib/python3.10/dist-packages/dash/dash.py:556: UserWarning:\n",
            "\n",
            "JupyterDash is deprecated, use Dash instead.\n",
            "See https://dash.plotly.com/dash-in-jupyter for more details.\n",
            "\n"
          ]
        },
        {
          "output_type": "stream",
          "name": "stdout",
          "text": [
            "Dash app running on:\n"
          ]
        },
        {
          "output_type": "display_data",
          "data": {
            "text/plain": [
              "<IPython.core.display.Javascript object>"
            ],
            "application/javascript": [
              "(async (port, path, width, height, cache, element) => {\n",
              "    if (!google.colab.kernel.accessAllowed && !cache) {\n",
              "      return;\n",
              "    }\n",
              "    element.appendChild(document.createTextNode(''));\n",
              "    const url = await google.colab.kernel.proxyPort(port, {cache});\n",
              "    const iframe = document.createElement('iframe');\n",
              "    iframe.src = new URL(path, url).toString();\n",
              "    iframe.height = height;\n",
              "    iframe.width = width;\n",
              "    iframe.style.border = 0;\n",
              "    iframe.allow = [\n",
              "        'accelerometer',\n",
              "        'autoplay',\n",
              "        'camera',\n",
              "        'clipboard-read',\n",
              "        'clipboard-write',\n",
              "        'gyroscope',\n",
              "        'magnetometer',\n",
              "        'microphone',\n",
              "        'serial',\n",
              "        'usb',\n",
              "        'xr-spatial-tracking',\n",
              "    ].join('; ');\n",
              "    element.appendChild(iframe);\n",
              "  })(8050, \"/\", \"100%\", 650, false, window.element)"
            ]
          },
          "metadata": {}
        },
        {
          "output_type": "display_data",
          "data": {
            "text/plain": [
              "<IPython.core.display.Javascript object>"
            ],
            "application/javascript": [
              "(async (port, path, text, element) => {\n",
              "    if (!google.colab.kernel.accessAllowed) {\n",
              "      return;\n",
              "    }\n",
              "    element.appendChild(document.createTextNode(''));\n",
              "    const url = await google.colab.kernel.proxyPort(port);\n",
              "    const anchor = document.createElement('a');\n",
              "    anchor.href = new URL(path, url).toString();\n",
              "    anchor.target = '_blank';\n",
              "    anchor.setAttribute('data-href', url + path);\n",
              "    anchor.textContent = text;\n",
              "    element.appendChild(anchor);\n",
              "  })(8050, \"/\", \"http://127.0.0.1:8050/\", window.element)"
            ]
          },
          "metadata": {}
        }
      ],
      "source": [
        "external_stylesheets = ['https://codepen.io/chriddyp/pen/bWLwgP.css']\n",
        "\n",
        "app = JupyterDash(__name__, external_stylesheets=external_stylesheets)\n",
        "\n",
        "# Configuração para remover display dos gráficos\n",
        "config_graph={'displayModeBar': False, 'showTips': False}\n",
        "\n",
        "# Lista para gerar os componentes\n",
        "anos = ['2018', '2019', '2020', '2021', '2022', 'Todos os períodos']\n",
        "\n",
        "num_de_vzs_no_semanal=['Top 10 dos que mais aparecem','Top 20 dos que mais aparecem','Top 30 dos que mais aparecem'\n",
        ",'Top 40 dos que mais aparecem','Top 50 dos que mais aparecem','Gráfico todo']\n",
        "\n",
        "# Criando site\n",
        "app.layout = html.Div([\n",
        "\n",
        "    # Criando um conjunto de abas/tabs\n",
        "    dcc.Tabs([\n",
        "\n",
        "    # Gráfico da Beatriz\n",
        "    dcc.Tab(label='TOP 10 Global', children=[\n",
        "    html.H2('Programas da Netflix no TOP 10 Global', style={'margin-top': '25px', 'color': '#E6020D', 'font-family': 'Bebas Neue',\n",
        "                                                            'font-weight': 'bold', 'margin-left': '10px'}),\n",
        "    html.P('O objetivo do gráfico é mapear as séries e filmes de sucesso ao redor do mundo, desde Julho de 2021 a Janeiro de 2022, comparando a quantidade de semanas que o mesmo, permaneceu no top 10 global. Com isso, conseguimos analisar o sucesso de cada série ou filme durante esse período.',\n",
        "           style={'margin-top': '25px', 'color': 'white', 'font-family': 'Bebas Neue', 'font-weight': 'bold', 'margin-left': '10px'}),\n",
        "    html.Br(),\n",
        "    dcc.Dropdown(num_de_vzs_no_semanal, value = 'Gráfico todo', id='grafico_top_10', style={'background-color': 'black', 'color': 'red',\n",
        "                                                                                            'border-color': 'red', 'border-width': '2px',\n",
        "                                                                                            'font-color': 'black'}),\n",
        "    html.Br(),\n",
        "    dcc.Graph(\n",
        "        id='grafico_inteiro',\n",
        "        figure=graphic_TOP10, config=config_graph),\n",
        "\n",
        "    html.Br(),\n",
        "      ]),\n",
        "\n",
        "    # Gráfico Will\n",
        "    dcc.Tab(label='Renovações das inscrições', children=[\n",
        "    html.H2('Renovações das inscrições da Netflix por Trimestre (2018 - 2019)', style={'margin-top': '50px', 'color': '#E6020D', 'font-family': 'Bebas Neue',\n",
        "                                                                                       'font-weight': 'bold', 'margin-left': '10px'}),\n",
        "    html.P('O objetivo do gráfico é demonstrar o aumento de renovações durante o período de 2018 e 2019.',\n",
        "           style={'margin-top': '25px', 'color': 'white', 'font-family': 'Bebas Neue', 'font-weight': 'bold', 'margin-left': '10px'}),\n",
        "    html.Br(),\n",
        "\n",
        "    dcc.RangeSlider(\n",
        "    min=0, max=7, step=1, marks={\n",
        "        0: 'Q1 - 2018',\n",
        "        1: 'Q2 - 2018',\n",
        "        2: 'Q3 - 2018',\n",
        "        3: 'Q4 - 2018',\n",
        "        4: 'Q1 - 2019',\n",
        "        5: 'Q2 - 2019',\n",
        "        6: 'Q3 - 2019',\n",
        "        7: 'Q4 - 2019'\n",
        "    }, value=[0, 7], id='buttonwill'),\n",
        "\n",
        "    html.Br(),\n",
        "\n",
        "    dcc.Graph(id='figwill', figure=fig4, config=config_graph),]),\n",
        "\n",
        "    # Gráfico Marllon\n",
        "    dcc.Tab(label='Preço da NFLX34', children=[\n",
        "\n",
        "    html.Br(),\n",
        "    html.H2('Preço da NFLX34 nos últimos 5 anos', style={'margin-top': '25px', 'color': '#E6020D', 'font-family': 'Bebas Neue', 'font-weight': 'bold'}),\n",
        "    html.P('O gráfico referente ao preço das ações da Netflix (NFLX34), durante o período de 2 de janeiro de 2018 a 10 de janeiro de 2023, tem por objetivo compreender a situação da empresa, utilizando esse dado econômico como referência, e entender o posicionamento da corporação em relação ao contexto social e político no ano de 2022, já que, dentre vários motivos, os conflitos entre Rússia e Ucrânia contribuíram para a desvalorização no preço das ações, uma vez que a Netflix cessou o fornecimento de seus serviços à Rússia.',\n",
        "           style={'margin-top': '25px', 'color': 'rgb(255, 255, 255)', 'font-family': 'Bebas Neue', 'font-weight': 'bold'}),\n",
        "\n",
        "    html.Br(),\n",
        "    dcc.Dropdown(anos, value = 'Todos os períodos', id='grafico_acoes', style={'background-color': 'black', 'color': 'red',\n",
        "                                                                                'border-color': 'red', 'border-width': '2px', 'font-color': 'black'}),\n",
        "    html.Br(),\n",
        "    dcc.Graph(\n",
        "        id= 'graficom',\n",
        "        figure=figm, config=config_graph),\n",
        "\n",
        "    ]),\n",
        "\n",
        "    # Gráfico Cavati\n",
        "    dcc.Tab(label='Gêneros mais adicionados', children=[\n",
        "\n",
        "    html.Br(),\n",
        "\n",
        "    html.H2('Gêneros mais adicionados desde 2021', style={'margin-top': '25px', 'color': '#E6020D', 'font-family': 'Bebas Neue', 'font-weight': 'bold'}),\n",
        "\n",
        "    html.P('O gráfico em questão tem como objetivo fazer uma análise dos gêneros de séries mais produzidas em um cenário pós pandêmico, buscando a compreensão dos genêros mais populares neste período.',\n",
        "           style={'margin-top': '25px', 'color': 'white', 'font-family': 'Bebas Neue', 'font-weight': 'bold', 'margin-bottom': '15px'}),\n",
        "    dcc.Slider(5, 20, 5, value = 15, id = 'cavaslider'),\n",
        "\n",
        "    dcc.Graph(id='cavasgraph', figure=graphic_gender, config = config_graph)\n",
        "    ]),\n",
        "\n",
        "], style={'margin-top': '140px', 'border': 'solid', 'border-color': '#E6020D', 'font-weight': 'bold', 'font-size': '20px', 'height': '65px'}),\n",
        "\n",
        "],style={'background-color': 'black', 'background-image': 'url(\"https://docs.google.com/uc?id=1nFI-b84b6qYoCDMBrF8FT8NjUE_9owKx\")',\n",
        "          'background-repeat': 'no-repeat', 'background-position': 'top center', 'position': 'top left', 'margin-top': '-1.3vh',\n",
        "          'margin-left': '-0.6vw', 'margin-right': '-0.7vw'})\n",
        "\n",
        "\n",
        "# Callback componente do cavati\n",
        "@app.callback(\n",
        "    Output('cavasgraph', 'figure'),\n",
        "    Input('cavaslider', 'value'))\n",
        "\n",
        "\n",
        "def update_output(value):\n",
        "\n",
        "    graphic_gender = px.bar(y= genders1[:value], x= FrequencyAxis1[:value], labels= {\n",
        "        'y': 'Gêneros',\n",
        "        'x': 'Quantidade de Filmes',\n",
        "    }, title= 'Categorias mais adicionadas desde 2021:', template='plotly_dark', color_discrete_sequence=['#e50914'])\n",
        "    graphic_gender.update_xaxes(showgrid= False, linecolor= 'white')\n",
        "    graphic_gender.update_yaxes(showgrid= False, linecolor= 'white')\n",
        "    graphic_gender.update_layout(font={'family':'Normal', 'size': 15})\n",
        "    graphic_TOP10.update_traces(textposition='inside')\n",
        "    return graphic_gender\n",
        "\n",
        "\n",
        "# Callback componente da bea\n",
        "@app.callback(\n",
        "    Output('grafico_inteiro', 'figure'),\n",
        "    Input('grafico_top_10', 'value'))\n",
        "\n",
        "def update_output(value):\n",
        "    if value == 'Top 10 dos que mais aparecem':\n",
        "        bia_indice = 10\n",
        "    elif value == 'Top 20 dos que mais aparecem':\n",
        "        bia_indice = 20\n",
        "    elif value == 'Top 30 dos que mais aparecem':\n",
        "        bia_indice = 30\n",
        "    elif value == 'Top 40 dos que mais aparecem':\n",
        "        bia_indice = 40\n",
        "    elif value == 'Top 50 dos que mais aparecem':\n",
        "        bia_indice = 50\n",
        "    else:\n",
        "        bia_indice = 401\n",
        "\n",
        "    graphic_TOP10 = px.bar(x= NameAxis[:bia_indice], y= FrequencyAxis[:bia_indice], labels= {\n",
        "        'x': 'Títulos dos Filmes',\n",
        "        'y': 'Semanas no TOP 10',\n",
        "    }, title= 'Programas da Netflix no TOP 10 Global:', template='plotly_dark', color_discrete_sequence=['#e50914'])\n",
        "    graphic_TOP10.update_xaxes(showgrid= False, linecolor= 'white')\n",
        "    graphic_TOP10.update_yaxes(showgrid= False, linecolor= 'white')\n",
        "    graphic_TOP10.update_layout(font={'family':'Normal', 'size': 15})\n",
        "    graphic_TOP10.update_traces(textposition='inside')\n",
        "    return graphic_TOP10\n",
        "\n",
        "\n",
        "# Callback componente Will\n",
        "@app.callback(\n",
        "    Output('figwill', 'figure'),\n",
        "    Input('buttonwill', 'value'))\n",
        "\n",
        "def willgraph(value):\n",
        "    fig4 = go.Figure(data=[\n",
        "    go.Scatter(\n",
        "        x= eixoX[value[0]:value[1]+1],\n",
        "        y= eua_canada[value[0]:value[1]+1],\n",
        "        name= 'EUA e Canadá',\n",
        "        line=dict(color='blue')\n",
        "    ),\n",
        "    go.Scatter(\n",
        "        x= eixoX[value[0]:value[1]+1],\n",
        "        y = euro_om_africa[value[0]:value[1]+1],\n",
        "        name= 'Europa, Oriente Médio e África',\n",
        "        line=dict(color='red'),\n",
        "    ),\n",
        "        go.Scatter(\n",
        "        x= eixoX[value[0]:value[1]+1],\n",
        "        y= america_latina[value[0]:value[1]+1],\n",
        "        name= 'América Latina',\n",
        "        line=dict(color='green')\n",
        "    ),\n",
        "    go.Scatter(\n",
        "        x= eixoX[value[0]:value[1]+1],\n",
        "        y= asia_pacifico[value[0]:value[1]+1],\n",
        "        name= 'Ásia Pacífico',\n",
        "        line=dict(color='yellow')\n",
        "    ),\n",
        "    go.Scatter(\n",
        "        x= eixoX[value[0]:value[1]+1],\n",
        "        y= media[value[0]:value[1]+1],\n",
        "        name= 'Média',\n",
        "        line=dict(color='gray', dash= 'dash', width=1),\n",
        "    )\n",
        "    ])\n",
        "\n",
        "    fig4.update_layout(title='Renovações das assinaturas da Netflix por trimestre (2018-2019)', title_font_color = 'white', template='plotly_dark', legend_font_color='white')\n",
        "    fig4.update_xaxes(color= 'white', showgrid= False, linecolor= 'white', title =  'Trimestre')\n",
        "    fig4.update_yaxes(color= 'white', showgrid= False, linecolor= 'white', title = 'Renovações')\n",
        "    return fig4\n",
        "\n",
        "# Callback componente do Marllon\n",
        "@app.callback(\n",
        "    Output('graficom', 'figure'),\n",
        "    Input('grafico_acoes', 'value'))\n",
        "\n",
        "def marllon_graphic(value):\n",
        "  precoX = []\n",
        "  dataX =[]\n",
        "  anox = value[-1]\n",
        "  preco_indice = 0\n",
        "  if value == 'Todos os períodos':\n",
        "    dataX = data[:]\n",
        "    precoX = preco[:]\n",
        "  else:\n",
        "    for i in range(len(data)):\n",
        "      if anox == str(data[i][-1]):\n",
        "        dataX.append(data[i])\n",
        "        precoX.append(preco[i])\n",
        "  figm = px.bar(x= dataX, y= precoX, labels= {\n",
        "          'x': 'Data',\n",
        "          'y': 'Preço da Ação (R$)',\n",
        "  }, title= 'Preço da NFLX34', template='plotly_dark', color_discrete_sequence=['#e50914'])\n",
        "  figm.update_xaxes(showgrid= False, linecolor= 'white')\n",
        "  figm.update_yaxes(showgrid= False, linecolor= 'white')\n",
        "  figm.update_layout(font={'family':'Normal', 'size': 15})\n",
        "  figm.update_traces(textposition='inside')\n",
        "  return figm\n",
        "\n",
        "\n",
        "if __name__ == '__main__':\n",
        "    app.run_server(mode = 'external')"
      ]
    }
  ],
  "metadata": {
    "colab": {
      "collapsed_sections": [
        "ZsPEB0-Dn2fk",
        "tnZZARQ7oLUf"
      ],
      "provenance": [],
      "include_colab_link": true
    },
    "kernelspec": {
      "display_name": "Python 3",
      "name": "python3"
    },
    "language_info": {
      "name": "python"
    }
  },
  "nbformat": 4,
  "nbformat_minor": 0
}